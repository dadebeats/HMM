{
 "cells": [
  {
   "cell_type": "markdown",
   "metadata": {},
   "source": [
    "# **POS** tagger by using **Hidden Markov Models**"
   ]
  },
  {
   "cell_type": "markdown",
   "metadata": {},
   "source": [
    "# Step 1: Data Exploration"
   ]
  },
  {
   "cell_type": "code",
   "execution_count": 1,
   "metadata": {},
   "outputs": [],
   "source": [
    "# Importing all the libraries here\n",
    "import os\n",
    "import conllu"
   ]
  },
  {
   "cell_type": "code",
   "execution_count": 2,
   "metadata": {},
   "outputs": [],
   "source": [
    "# file Path to the multiple .conllu datasets\n",
    "data_paths = ['Data/Practice2/en_gum-ud-dev.conllu', 'Data/Practice2/en_gum-ud-train.conllu', 'Data/Practice2/en_gum-ud-test.conllu']"
   ]
  },
  {
   "cell_type": "code",
   "execution_count": 3,
   "metadata": {},
   "outputs": [],
   "source": [
    "#Initializing the Global Variables\n",
    "datas = []\n",
    "sentence_dataset = []\n",
    "\n",
    "# Opening the .conllu file\n",
    "for data_path in data_paths:\n",
    "    with open(data_path, 'r', encoding='utf-8') as file:\n",
    "        datas.append(file.read())\n",
    "\n",
    "# Parsing the data using conllu library\n",
    "for data in datas:\n",
    "    sentence_dataset.append(conllu.parse(data))"
   ]
  },
  {
   "cell_type": "code",
   "execution_count": 4,
   "metadata": {},
   "outputs": [
    {
     "name": "stdout",
     "output_type": "stream",
     "text": [
      "Number of Sentence Datsets: 3\n",
      "Sentences in Dataset 1:  1117\n",
      "Sentences in Dataset 2:  8548\n",
      "Sentences in Dataset 3:  1096\n",
      "Length of the First Sentence: 8\n",
      "dict_keys(['id', 'form', 'lemma', 'upos', 'xpos', 'feats', 'head', 'deprel', 'deps', 'misc'])\n",
      "dict_values([1, 'Results', 'result', 'NOUN', 'NNS', {'Number': 'Plur'}, 0, 'root', [('root', 0)], {'Discourse': 'elaboration-additional:2->1:0', 'Entity': '(5-abstract-new-cf3-1-sgl'}])\n"
     ]
    }
   ],
   "source": [
    "# Testing the Data\n",
    "print(f\"Number of Sentence Datsets: {len(sentence_dataset)}\")\n",
    "\n",
    "for idx, sentences in enumerate(sentence_dataset):\n",
    "    print(f\"Sentences in Dataset {idx+1}:  {len(sentences)}\")\n",
    "\n",
    "first_sentence = sentence_dataset[2][1]\n",
    "    \n",
    "for token in first_sentence:\n",
    "    print(f\"Length of the First Sentence: {len(first_sentence)}\")\n",
    "    print(token.keys())\n",
    "    print(token.values())\n",
    "    break"
   ]
  },
  {
   "cell_type": "markdown",
   "metadata": {},
   "source": [
    "**Now we will store these sentences into a (token, u-pos) tulpe within our list**"
   ]
  },
  {
   "cell_type": "code",
   "execution_count": 5,
   "metadata": {},
   "outputs": [],
   "source": [
    "# Initializing Global Variables\n",
    "total_tokens = []\n",
    "POS_tags = set()\n",
    "\n",
    "# Adding the Word and its tag to the Token and POS_tags variable\n",
    "for sentences in sentence_dataset:\n",
    "    for sentence in sentences:\n",
    "        for token in sentence:\n",
    "            total_tokens.append((token['form'], token['upos']))\n",
    "            POS_tags.add(token['upos'])"
   ]
  },
  {
   "cell_type": "code",
   "execution_count": 6,
   "metadata": {},
   "outputs": [
    {
     "name": "stdout",
     "output_type": "stream",
     "text": [
      "Number of Tokens: 190278\n",
      "The First Five Tokens:  [('Introduction', 'NOUN'), ('Research', 'NOUN'), ('on', 'ADP'), ('adult', 'NOUN'), ('-', 'PUNCT')]\n",
      "\n",
      "Number of Tags: 18\n",
      "Types of Tags:  {'SCONJ', 'DET', 'SYM', 'PUNCT', 'NUM', 'ADV', 'ADJ', '_', 'ADP', 'PROPN', 'PART', 'CCONJ', 'PRON', 'VERB', 'NOUN', 'X', 'INTJ', 'AUX'}\n"
     ]
    }
   ],
   "source": [
    "# Testing out our data \n",
    "print(f\"Number of Tokens: {len(total_tokens)}\")\n",
    "print(\"The First Five Tokens: \", total_tokens[:5])\n",
    "\n",
    "print(f\"\\nNumber of Tags: {len(POS_tags)}\")\n",
    "print(\"Types of Tags: \", POS_tags)"
   ]
  },
  {
   "cell_type": "markdown",
   "metadata": {},
   "source": [
    "**Now we will split our tokens into Test and Training Datasets**"
   ]
  },
  {
   "cell_type": "code",
   "execution_count": 7,
   "metadata": {},
   "outputs": [
    {
     "name": "stdout",
     "output_type": "stream",
     "text": [
      "Length of Training Tokens: 152222\n",
      "Length of Testing Tokens: 38056\n"
     ]
    }
   ],
   "source": [
    "# Initializing our Global Variables\n",
    "train_tokens = []\n",
    "test_tokens = []\n",
    "\n",
    "# finding the index form which we will split\n",
    "train_idx = int(len(total_tokens)*0.8)\n",
    "\n",
    "#Splitting and assignment\n",
    "train_tokens = total_tokens[:train_idx]\n",
    "test_tokens = total_tokens[train_idx:]\n",
    "\n",
    "print(f\"Length of Training Tokens: {len(train_tokens)}\")\n",
    "print(f\"Length of Testing Tokens: {len(test_tokens)}\")"
   ]
  },
  {
   "cell_type": "code",
   "execution_count": null,
   "metadata": {},
   "outputs": [],
   "source": []
  },
  {
   "cell_type": "markdown",
   "metadata": {},
   "source": [
    "# Step 2: Implementing HMM and Viterbi"
   ]
  },
  {
   "cell_type": "code",
   "execution_count": null,
   "metadata": {},
   "outputs": [],
   "source": []
  }
 ],
 "metadata": {
  "kernelspec": {
   "display_name": "Python 3.11.3 ('venvSyntax': venv)",
   "language": "python",
   "name": "python3"
  },
  "language_info": {
   "codemirror_mode": {
    "name": "ipython",
    "version": 3
   },
   "file_extension": ".py",
   "mimetype": "text/x-python",
   "name": "python",
   "nbconvert_exporter": "python",
   "pygments_lexer": "ipython3",
   "version": "3.11.3"
  },
  "orig_nbformat": 4,
  "vscode": {
   "interpreter": {
    "hash": "8039dc67c7fc3bb81eba0b7706ae90869074cd71063e3b75dec25ad99fd8f24e"
   }
  }
 },
 "nbformat": 4,
 "nbformat_minor": 2
}
