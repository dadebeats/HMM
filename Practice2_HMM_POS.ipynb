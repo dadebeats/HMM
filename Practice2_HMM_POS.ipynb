{
 "cells": [
  {
   "cell_type": "markdown",
   "metadata": {},
   "source": [
    "# **POS** tagger by using **Hidden Markov Models**"
   ]
  },
  {
   "cell_type": "markdown",
   "metadata": {},
   "source": [
    "Imp Note: *Dev dataset is used to verify the unknown tags in both emission and transition matrices. We will also have an additional categoruy in the training dataset which wil have the UNK tag that contains unkown. The dev dataset will also be used for smoothing and more. We will categorize the most infrequent words into UNK.*"
   ]
  },
  {
   "cell_type": "code",
   "execution_count": 1,
   "metadata": {},
   "outputs": [],
   "source": [
    "# Importing all the libraries here\n",
    "import os\n",
    "import conllu"
   ]
  },
  {
   "cell_type": "markdown",
   "metadata": {},
   "source": [
    "# Step 1: Converting Data into Tokens and Tags "
   ]
  },
  {
   "cell_type": "markdown",
   "metadata": {},
   "source": [
    "## Initializing The Global Variables\n",
    "\n",
    "- \"dataset_paths\" is a dictionary which has the language's names as its keys. It consists of a list that contains the file location of the traning, dev and testing datasets\n",
    "- \"parsed_datasets\" is a dictionary which has the language's names as its keys. It consists if a list with all the datasets which have been parsed into sentences"
   ]
  },
  {
   "cell_type": "markdown",
   "metadata": {},
   "source": [
    "- \"tokenized_datasets\" is a dictionary which has a list consisting of three further lists for training, dev and testing. \n",
    "    - tokenized_datasets[ language ][ 0 ] = training dataset list of tuples, (tokens, tags)\n",
    "    - tokenized_datasets[ language ][ 1 ] = dev dataset list of tuples, (tokens, tags)\n",
    "    - tokenized_datasets[ language ][ 2 ] = testing dataset list of tuples, (tokens, tags)"
   ]
  },
  {
   "cell_type": "markdown",
   "metadata": {},
   "source": [
    "- \"POS_dataset_tags\" is a dictionary which stores all the tags within a language "
   ]
  },
  {
   "cell_type": "code",
   "execution_count": 2,
   "metadata": {},
   "outputs": [],
   "source": [
    "# Define the paths to the .conllu datasets\n",
    "dataset_paths = {\n",
    "    'English': ['Data/English/en_gum-ud-train.conllu', 'Data/English/en_gum-ud-dev.conllu', 'Data/English/en_gum-ud-test.conllu'],\n",
    "    'Basque':  ['Data/Basque/eu_bdt-ud-train.conllu', 'Data/Basque/eu_bdt-ud-dev.conllu', 'Data/Basque/eu_bdt-ud-test.conllu']\n",
    "}\n",
    "\n",
    "# Initialize lists within a dictionary to store parsed data for each dataset\n",
    "parsed_datasets = {\n",
    "    'English': [],\n",
    "    'Basque': []\n",
    "}\n",
    "\n",
    "# Initialize lists within a dictionary to store a tuple of (tokens, tags)\n",
    "tokenized_datasets = {\n",
    "    'English': [],\n",
    "    'Basque': []\n",
    "}\n",
    "\n",
    "# Initialize lists within a dictionary to store a list of tags within each dataset\n",
    "POS_dataset_tags = {\n",
    "    'English': set(),\n",
    "    'Basque': set()\n",
    "}\n"
   ]
  },
  {
   "cell_type": "markdown",
   "metadata": {},
   "source": [
    "## Parsing the Data Files\n",
    "\n",
    "- In the following code we will parse the .conllu files and store all the three \"Training, Dev and Testing\" datasets of both languages into the \"Paresed_datasets\" variable.\n",
    "- We will create a function \"read_and_parse_conllu\" which takes \"file_path\" as a parameter and returns conllu parsed class"
   ]
  },
  {
   "cell_type": "code",
   "execution_count": 3,
   "metadata": {},
   "outputs": [],
   "source": [
    "# Function to read and parse a .conllu file\n",
    "def read_and_parse_conllu(file_path):\n",
    "    with open(file_path, 'r', encoding='utf-8') as file:\n",
    "        return conllu.parse(file.read())"
   ]
  },
  {
   "cell_type": "code",
   "execution_count": 4,
   "metadata": {},
   "outputs": [
    {
     "name": "stdout",
     "output_type": "stream",
     "text": [
      "\n",
      "Language: English\n",
      "Data Paths:\n",
      "\t ['Data/English/en_gum-ud-train.conllu', 'Data/English/en_gum-ud-dev.conllu', 'Data/English/en_gum-ud-test.conllu']\n",
      "\n",
      "Parsed data for English: Data/English/en_gum-ud-train.conllu\n",
      "Parsed data for English: Data/English/en_gum-ud-dev.conllu\n",
      "Parsed data for English: Data/English/en_gum-ud-test.conllu\n",
      "\n",
      "Number of Sentence Datasets: 3\n",
      "\n",
      "\n",
      "Language: Basque\n",
      "Data Paths:\n",
      "\t ['Data/Basque/eu_bdt-ud-train.conllu', 'Data/Basque/eu_bdt-ud-dev.conllu', 'Data/Basque/eu_bdt-ud-test.conllu']\n",
      "\n",
      "Parsed data for Basque: Data/Basque/eu_bdt-ud-train.conllu\n",
      "Parsed data for Basque: Data/Basque/eu_bdt-ud-dev.conllu\n",
      "Parsed data for Basque: Data/Basque/eu_bdt-ud-test.conllu\n",
      "\n",
      "Number of Sentence Datasets: 3\n",
      "\n"
     ]
    }
   ],
   "source": [
    "# Iterate through each language dataset\n",
    "for language, data_paths in dataset_paths.items():\n",
    "    print(f\"\\nLanguage: {language}\\nData Paths:\\n\\t {data_paths}\\n\")\n",
    "    \n",
    "    for data_path in data_paths:\n",
    "        parsed_data = read_and_parse_conllu(data_path)\n",
    "        parsed_datasets[language].append(parsed_data)\n",
    "        print(f\"Parsed data for {language}: {data_path}\")\n",
    "    \n",
    "    print(f\"\\nNumber of Sentence Datasets: {len(parsed_datasets[language])}\\n\")"
   ]
  },
  {
   "cell_type": "markdown",
   "metadata": {},
   "source": [
    "## Exploring the Parsed Datasets\n",
    "\n",
    "Here we explore the basic information regrading the datasets which we have just parsed "
   ]
  },
  {
   "cell_type": "code",
   "execution_count": 5,
   "metadata": {},
   "outputs": [
    {
     "name": "stdout",
     "output_type": "stream",
     "text": [
      "\n",
      "Dataset of Language 1: English\n",
      "Number of Sentence Datasets: 3\n",
      "English Sentences in the training Dataset: 8548\n",
      "English Sentences in the dev Dataset: 1117\n",
      "English Sentences in the testing Dataset: 1096\n",
      "\n",
      "Dataset of Language 2: Basque\n",
      "Number of Sentence Datasets: 3\n",
      "Basque Sentences in the training Dataset: 5396\n",
      "Basque Sentences in the dev Dataset: 1798\n",
      "Basque Sentences in the testing Dataset: 1799\n"
     ]
    }
   ],
   "source": [
    "# Iterate through the languages and their corresponding datasets\n",
    "for idx, language in enumerate(parsed_datasets.keys()):\n",
    "    print(f\"\\nDataset of Language {idx + 1}: {language}\")\n",
    "\n",
    "    # Define dataset names\n",
    "    dataset_names = [\"training\", \"dev\", \"testing\"]\n",
    "\n",
    "    # Print the number of sentence datasets for each language\n",
    "    print(f\"Number of Sentence Datasets: {len(parsed_datasets[language])}\")\n",
    "\n",
    "    # Iterate through the sentence datasets for each language\n",
    "    for idx, sentence_dataset in enumerate(parsed_datasets[language]):\n",
    "        dataset_name = dataset_names[idx]\n",
    "\n",
    "        # Print the number of sentences in each dataset for the current language\n",
    "        print(f\"{language} Sentences in the {dataset_name} Dataset: {len(sentence_dataset)}\")"
   ]
  },
  {
   "cell_type": "markdown",
   "metadata": {},
   "source": [
    "## Parsed Dataset into Token and Tags"
   ]
  },
  {
   "cell_type": "markdown",
   "metadata": {},
   "source": [
    "Here we Extract the words(form) and POS(upos - universal part of speech) and store them within a tuple that is appended to our list. "
   ]
  },
  {
   "cell_type": "code",
   "execution_count": 6,
   "metadata": {},
   "outputs": [],
   "source": [
    "for language in parsed_datasets.keys():\n",
    "    # English, Basque\n",
    "    \n",
    "    for sentence_dataset in parsed_datasets[language]:\n",
    "        # 0 train, 1 dev, 2 test\n",
    "        temp_tokenized_list = []\n",
    "        \n",
    "        for sentence in sentence_dataset:\n",
    "            # Single Sentence form the one of the datasets from above\n",
    "            \n",
    "            for token in sentence:\n",
    "                # single token from the sentence\n",
    "\n",
    "                temp_tokenized_list.append((token['form'], token['upos']))\n",
    "                POS_dataset_tags[language].add(token['upos'])\n",
    "        \n",
    "        tokenized_datasets[language].append(temp_tokenized_list)"
   ]
  },
  {
   "cell_type": "markdown",
   "metadata": {},
   "source": [
    "## Exploring the Tokenized and Tagged Data"
   ]
  },
  {
   "cell_type": "markdown",
   "metadata": {},
   "source": [
    "Here we explore the token size and all the Tags which are within a certain language. Furthemore we also see some examples of each dataset"
   ]
  },
  {
   "cell_type": "code",
   "execution_count": 7,
   "metadata": {},
   "outputs": [
    {
     "name": "stdout",
     "output_type": "stream",
     "text": [
      "English Train Tokens: 150143\n",
      "Example: [('Aesthetic', 'ADJ'), ('Appreciation', 'NOUN'), ('and', 'CCONJ'), ('Spanish', 'ADJ'), ('Art', 'NOUN')]\n",
      "English Dev Tokens: 19964\n",
      "Example: [('Introduction', 'NOUN'), ('Research', 'NOUN'), ('on', 'ADP'), ('adult', 'NOUN'), ('-', 'PUNCT')]\n",
      "English Test Tokens: 20171\n",
      "Example: [('The', 'DET'), ('prevalence', 'NOUN'), ('of', 'ADP'), ('discrimination', 'NOUN'), ('across', 'ADP')]\n",
      "\n",
      "Basque Train Tokens: 72974\n",
      "Example: [('Gero', 'ADV'), (',', 'PUNCT'), ('lortutako', 'VERB'), ('masa', 'NOUN'), ('molde', 'NOUN')]\n",
      "Basque Dev Tokens: 24095\n",
      "Example: [('Atenasen', 'PROPN'), ('ordea', 'CCONJ'), (',', 'PUNCT'), ('beste', 'DET'), ('bost', 'NUM')]\n",
      "Basque Test Tokens: 24374\n",
      "Example: [('Familian', 'NOUN'), (',', 'PUNCT'), ('aldiz', 'CCONJ'), (',', 'PUNCT'), ('ez', 'PART')]\n",
      "\n",
      "English POS Tags list: {'CCONJ', 'PUNCT', 'PROPN', 'ADV', 'PRON', 'X', 'PART', 'NUM', 'SYM', 'VERB', 'ADP', 'INTJ', 'NOUN', 'AUX', 'ADJ', '_', 'DET', 'SCONJ'}\n",
      "Basque POS Tags list: {'CCONJ', 'PUNCT', 'ADV', 'NUM', 'PROPN', 'PRON', 'PART', 'X', 'SYM', 'VERB', 'INTJ', 'ADP', 'NOUN', 'AUX', 'ADJ', 'DET', 'SCONJ'}\n"
     ]
    }
   ],
   "source": [
    "languages = ['English', 'Basque']\n",
    "\n",
    "# Iterating through each language\n",
    "for language in languages:\n",
    "    for dataset_type, tokens in zip(['Train', 'Dev', 'Test'], tokenized_datasets[language]):\n",
    "        print(f\"{language} {dataset_type} Tokens: {len(tokens)}\")\n",
    "        print(f\"Example: {tokens[:5]}\")\n",
    "    print() # for better readability, no other purpose\n",
    "\n",
    "# Printing the Part of Speech of both Languages\n",
    "for language in languages:\n",
    "    print(f\"{language} POS Tags list: {POS_dataset_tags[language]}\")\n"
   ]
  },
  {
   "cell_type": "code",
   "execution_count": null,
   "metadata": {},
   "outputs": [],
   "source": []
  },
  {
   "cell_type": "code",
   "execution_count": 72,
   "metadata": {},
   "outputs": [],
   "source": [
    "def calculate_emission_matrix(train_data, tag_list):\n",
    "        tag_word_counts = {}  # Dictionary to store word counts for each tag\n",
    "        tag_counts = {}  # Dictionary to store tag counts\n",
    "        emission_matrix = {}  # Dictionary to store the emission matrix\n",
    "\n",
    "        for word, tag in train_data:\n",
    "            \n",
    "            # Normalize word by converting it to lowercase\n",
    "            word = word.lower()\n",
    "            \n",
    "            if tag in tag_word_counts:\n",
    "                # If the tag exists in tag_word_counts, update word count\n",
    "                tag_word_counts[tag][word] = tag_word_counts[tag].get(word, 0) + 1\n",
    "            else:\n",
    "                # If the tag is encountered for the first time, create a new entry\n",
    "                tag_word_counts[tag] = {word: 1}\n",
    "            \n",
    "            # Update the tag count\n",
    "            tag_counts[tag] = tag_counts.get(tag, 0) + 1\n",
    "\n",
    "        for tag in tag_list:\n",
    "            temp_matrix = {}  # Dictionary for the current tag\n",
    "\n",
    "            for word in tag_word_counts.get(tag, {}):\n",
    "                word_count = tag_word_counts[tag][word]\n",
    "                temp_matrix[word] = word_count / tag_counts[tag]\n",
    "\n",
    "            # Store the tag's emission probabilities in the emission matrix\n",
    "            emission_matrix[tag] = temp_matrix\n",
    "\n",
    "        return emission_matrix"
   ]
  },
  {
   "cell_type": "code",
   "execution_count": 73,
   "metadata": {},
   "outputs": [
    {
     "name": "stdout",
     "output_type": "stream",
     "text": [
      "dict_keys(['CCONJ', 'PUNCT', 'PROPN', 'ADV', 'PRON', 'X', 'PART', 'NUM', 'SYM', 'VERB', 'ADP', 'INTJ', 'NOUN', 'AUX', 'ADJ', '_', 'DET', 'SCONJ'])\n"
     ]
    }
   ],
   "source": [
    "emission_matrix = calculate_emission_matrix(tokenized_datasets['English'][0], POS_dataset_tags['English'])\n",
    "\n",
    "print(emission_matrix.keys())"
   ]
  },
  {
   "cell_type": "code",
   "execution_count": 74,
   "metadata": {},
   "outputs": [
    {
     "data": {
      "text/plain": [
       "dict_keys(['appreciation', 'art', 'insights', 'eye', 'tracking', 'people', 'elements', 'artworks', 'museum', 'labels', 'impact', 'viewing', 'experience', 'one', 'issues', 'perception', 'attention', 'memory', 'decision', 'affect', 'emotion', 'time', 'ways', 'artwork', 'relevance', 'interestingness', 'appeal', 'paper', 'pilot', 'project', 'collection', 'century', 'paintings', 'example', 'purpose', 'surroundings', 'studies', 'psychology', 'works', 'distinctions', 'topics', 'work', 'collections', 'themes', 'techniques', 'processes', 'study', 'effects', 'interpretation', 'exploration', 'implications', 'understanding', 'behaviours', 'gallery', 'practice', 'research', 'strengths', 'history', 'humanities', 'reactions', 'representations', 'significance', 'whole', 'interaction', 'beginning', 'scan', 'viewer', 'information', 'series', 'fixations', 'movements', 'saccades', 'direction', 'goals', 'observer', 'properties', 'scene', 'colour', 'texture', 'brightness', 'etc', 'insight', 'participants', 'beliefs', 'memories', 'impressions', 'potential', 'processing', 'arts', 'way', 'factors', 'visit', 'cycle', 'sons', 'display', 'years', 'kind', 'world', 'scholarship', 'aspects', 'production', 'stage', 'audience', 'copy', 'part', 'audiences', 'culture', 'label', 'characteristics', 'visitor', 'behaviour', 'introduction', 'tenure', 'track', 'university', 'faculty', 'role', 'speed', 'progress', 'training', 'researchers', 'efforts', 'forms', 'diversity', 'gender', 'community', 'group', 'thinking', 'solutions', 'tasks', 'individuals', 'skillsets', 'perspectives', 'abilities', 'peers', 'climates', 'learning', 'environments', 'mentoring', 'scientists', 'science', 'lack', 'data', 'workforce', 'composition', 'dynamics', 'field', 'computer', 'step', 'fields', 'listing', 'sample', 'frame', 'analysis', 'rates', 'adoption', 'services', 'disciplines', 'instance', 'representation', 'computing', 'issue', 'census', 'degree', 'inequality', 'sources', 'society', 'membership', 'roll', 'hand', 'organization', 'lists', 'web', 'directories', 'departments', 'task', 'samples', '–', 'elite', 'generalizability', 'date', 'record', 'business', 'set', 'light', 'inequalities', 'placement', 'productivity', 'snapshot', 'system', 'trends', 'numbers', 'aggregate', 'employment', 'phd', 'recipients', 'survey', 'surveys', 'summary', 'statistics', 'weaknesses', 'response', 'misinterpretation', 'questions', 'frames', 'bias', 'analyses', 'view', 'causality', 'differences', 'recruitment', 'retention', 'strategies', 'averaging', 'efficacy', 'policies', 'crawler', 'discipline', 'hours', 'shelf', 'hardware', 'improvement', 'access', 'listings', 'societies', 'effectiveness', 'participation', 'parallel', 'movement', 'labor', 'flows', 'advances', 'availability', 'design', 'implementation', 'framework', 'results', 'sections', 'validity', 'utility', 'second', 'type', 'censuses', 'pipeline', 'problem', 'economics', 'foundations', 'application', 'case', 'property', 'rights', 'credibility', 'state', 'commitment', 'half', 'return', 'institutions', 'awarding', 'representatives', 'recognition', 'notions', 'approach', 'concepts', 'transaction', 'costs', 'transactions', 'gains', 'exchange', 'place', 'rules', 'game', 'structure', 'economy', 'incentives', 'behavior', 'level', 'uncertainty', 'words', 'agents', 'actors', 'objectives', 'creation', 'right', 'equality', 'conditions', 'course', 'lead', 'institution', 'judiciary', 'order', 'climate', 'cooperation', 'violators', 'contracts', 'path', 'disagreements', 'elites', 'consequences', 'activity', 'growth', 'power', 'number', 'groups', 'governments', 'resources', 'rest', 'population', 'enrichment', 'being', 'feature', 'government', 'interest', 'pluralism', 'loss', 'privileges', 'constitution', 'action', 'compliance', 'mechanisms', 'standards', 'expropriation', 'decisions', 'execution', 'performance', 'scenario', 'enforcement', 'mechanism', 'fdi', 'policymaking', 'knowledge', 'country', 'era', 'metropolis', 'establishment', 'politics', 'actions', 'citizens', 'rhythm', 'enjambment', 'detection', 'centuries', 'sonnets', 'unit', 'lines', 'poetry', 'rise', 'emphasis', 'phrase', 'contrast', 'interpretations', 'configurations', 'use', 'authors', 'overview', 'others', 'description', 'author', 'scale', 'hundreds', 'reading', 'need', 'software', 'language', 'corpus', 'literature', 'debate', 'units', 'criteria', 'object', 'amounts', 'examples', 'evidence', 'scholars', 'claims', 'period', 'abstract', 'definition', 'evaluation', 'findings', 'sonnet', 'website', 'details', 'space', 'reasons', 'trend', 'antiquity', 'tradition', 'pause', 'form', 'end', 'line', 'hemistichs', 'cut', 'experiments', 'word', 'terms', 'sequences', 'noun', 'adjective', 'verb', 'adverb', 'antecedent', 'pronoun', 'clause', 'site', 'list', 'types', 'subject', 'verbs', 'reader', 'effect', 'cases', 'expansion', 'recitation', 'typology', 'typologies', 'pollution', 'experts', 'charlatans', 'sense', 'responsibility', 'kinds', 'selection', 'pain', 'regress', 'fact', 'markers', 'expertise', 'philosophers', 'opportunity', 'deception', 'environment', 'mimicry', 'methods', 'means', 'pretense', 'trust', 'expert', 'authority', 'capacity', 'public', 'advantage', 'health', 'care', 'doctors', 'viewpoints', 'child', 'debates', 'forum', 'college', 'profession', 'statement', 'reassignment', 'surgery', 'consensus', 'pediatricians', 'peak', 'body', 'workers', 'dysphoria', 'base', 'range', 'opinions', 'views', 'weight', 'impression', 'pollutant', 'companies', 'publishing', 'giant', 'publications', 'peer', 'journals', 'products', 'prestige', 'air', 'reliability', 'deceit', 'opposite', 'legitimacy', 'publication', 'extension', 'dissemination', 'outbreak', 'fee', 'phenomenon', 'times', 'academia', 'journal', 'contingent', 'profit', 'motive', 'articles', 'vaccines', 'autism', 'link', 'publisher', 'controversy', 'judgments', 'professionals', 'academics', 'difficulty', 'publishers', 'confidence', 'board', 'result', 'conflicts', 'reason', 'occasions', 'attempts', 'systems', 'function', 'universities', 'bar', 'associations', 'review', 'bodies', 'functions', 'conflict', 'pressures', 'credentials', 'incentive', 'staff', 'rankings', 'grant', 'money', 'students', 'manipulation', 'metrics', 'accusations', 'fraud', 'discoveries', 'reputations', 'games', 'school', 'contributions', 'cognition', 'intersection', 'sets', 'fun', 'point', 'process', 'complaint', 'parents', 'teachers', 'schools', 'respect', 'influence', 'skills', 'ability', 'objects', 'context', 'student', 'span', 'preschool', 'age', 'intelligence', 'children', 'working', 'importance', 'functioning', 'involvement', 'regulation', 'thoughts', 'emotions', 'content', 'distractors', 'question', 'classroom', 'activities', 'features', 'challenges', 'player', 'quest', 'database', 'monitoring', 'exercise', 'problems', 'approaches', 'observation', 'interventions', 'interviews', 'perceptions', 'intervention', 'd2', 'test', 'scanning', 'accuracy', 'tablets', 'weeks', 'm', 'participant', 'control', 'n', 'interval', 'platform', 'visualization', 'possibility', 'scores', 'variables', 'stability', 't', 'difference', 'score', 'p', 'mean', 'deviation', 'dispersion', 'variation', 'relation', 'addition', 'interview', 'preference', 'solving', 'improvements', 'changes', 'persistence', 'tenet', 'sound', 'connection', 'meaning', 'dog', 'concept', 'accident', 'portion', 'sounds', 'principles', 'arbitrariness', 'sign', 'selectiveness', 'languages', 'likelihood', 'exception', 'rule', 'comparison', 'continents', 'repair', 'initiator', 'support', 'claim', 'similarities', 'interjection', 'initiation', 'chance', 'coincidence', 'globe', 'dialects', 'interjections', 'general', 'item', 'nature', 'grunt', 'signalling', 'hearing', 'speaker', 'repetition', 'term', 'sequence', 'turn', 'operation', 'modification', 'method', 'recordings', 'conversations', 'phonology', 'grammar', 'comparability', 'talk', 'trouble', 'surprise', 'uses', 'paths', 'change', 'discussion', 'adult', 'si', 'session', 'format', 'felicity', 'truth', 'value', 'hypothesis', 'variability', 'some', 'surface', 'size', 'items', 'finding', 'limitations', 'directions', 'reminder', 'acquisition', 'grouping', 'millions', 'follow', 'stimuli', 'depictions', 'region', 'testing', 'conclusions', 'regard', 'colleagues', 'responses', 'puppet', 'pictures', 'descriptions', 'collectors', 'default', 'answer', 'methodology', 'outcomes', 'puppets', 'appearance', 'arrival', 'ranges', 'communities', 'borrowings', 'conclusion', 'inference', 'combination', 'hierarchy', 'utilization', 'cfl', 'led', 'bulbs', 'today', 'generation', 'day', 'help', 'lighting', 'night', 'presence', 'necessity', 'consumption', 'household', 'energy', 'home', 'bulb', 'mercury', 'emission', 'uv', 'radiation', 'solution', 'safety', 'conservation', 'diode', 'scled', 'chemicals', 'electricity', 'source', 'households', 'percent', 'demand', 'sectors', 'appliances', 'homes', 'sector', 'efficiency', 'usage', 'perks', 'perils', 'lamp', 'price', 'cfls', 'start', 'greenhouse', 'emissions', 'wastes', 'ground', 'water', 'inside', 'skin', 'uvr', 'erythema', 'sunburn', 'vitamin', 'd', 'aging', 'cancer', 'exposure', 'situation', 'lights', 'proponents', 'compatibility', 'materials', 'mutation', 'operators', 'article', 'mutants', 'applications', 'keywords', 'technique', 'errors', 'sut', 'mutant', 'technologies', 'paradigms', 'domains', 'domain', 'gis', 'programming', 'development', 'proof', 'programmer', 'reflection', 'aspect', 'classes', 'user', 'operator', 'coordinate', 'geometry', 'interface', 'error', 'wrapping', 'figure', 'technology', 'places', 'areas', 'geofences', 'geofence', 'location', 'latitude', 'longitude', 'radius', 'device', 'notifications', 'map', 'zones', 'geometries', 'operations', 'verification', 'restrictions', 'intersects', 'covers', 'overlap', 'land', 'objective', 'reparcelling', 'lands', 'owner', 'exploitation', 'polygons', 'proposals', 'replication', 'reviews', 'recommendations', 'endeavor', 'procedures', 'indication', 'calls', 'l2', 'references', 'commentaries', 'book', 'length', 'treatment', 'repository', 'purposes', 'infrastructure', 'collaboration', 'waves', 'media', 'metascience', 'syntheses', 'quantity', 'education', 'force', 'battery', 'crisis', 'concerns', 'dimensions', 'amount', 'quality', 'reproducibility', 'extent', 'core', 'commentators', 'gold', 'standard', 'p.', 'linchpin', 'excitement', 'originality', 'gap', 'subdomains', 'sister', 'relationship', 'synthesis', 'self', 'replications', 'piloting', 'instrument', 'premise', 'refinement', 'theory', 'epistemologies', 'constructs', 'aim', 'clarification', 'salinity', 'parameters', 'circulations', 'biogeochemistry', 'ocean', 'drifters', 'buoys', 'cruises', 'regions', 'resolution', 'measurements', 'decade', 'launch', 'soil', 'moisture', 'satellite', 'sea', 'sss', 'observations', 'sensing', '1970s', 'band', 'radiometry', 'microwave', 'interferometers', 'array', 'radiometer', 'frequency', 'maps', 'agreement', 'psu', 'sensitivity', 'temperature', 'k/psu', 'observing', 'angles', 'temperatures', 'sst', 'polarization', 'retrieval', 'model', 'corrections', 'sensor', 'increasing', 'emissivity', 'roughness', 'foam', 'decades', 'correction', 'tower', 'wind', 'campaign', 'instruments', 'campaigns', 'models', 'slope', 'approximation', 'perturbation', 'threshold', 's', 'wave', 'breaking', 'transfer', 'equation', 'frequencies', 'spectrum', 'factor', 'choice', 'cutoff', 'wavenumber', 'contribution', 'determination', 'biases', 'radio', 'interference', 'rfi', 'area', 'accuracies', 'tail', 'ontogeny', 'chickens', 'posture', 'kinematics', 'dinosaurs', 'displacement', 'com', 'femur', 'standing', 'animals', 'subjects', 'retraction', 'knee', 'flexion', 'walking', 'shift', 'bird', 'locomotion', 'hip', 'crocodilians', 'archosaur', 'mammals', 'limb', 'mass', 'proxy', 'postures', 'caution', 'relationships', 'orientation', 'loading', 'regimes', 'bones', 'element', 'reaction', 'grf', 'bending', 'forces', 'bone', 'lengths', 'patterns', 'scaling', 'theropods', 'birds', 'femora', 'manipulations', 'loads', 'horizontal', 'idea', 'morphology', 'correlates', 'limbs', 'moments', 'verticalization', 'rearing', 'exercising', 'tails', 'enclosure', 'cages', 'minutes', 'days', 'week', 'evolution', 'reorganization', 'musculature', 'setup', 'theropod', 'moment', 'inertia', 'position', 'relatedness', 'dinosaur', 'hindlimb', 'inferences', 'convergence', 'caveat', 'reduction', 'forelimb', 'enlargement', 'avenues', 'investigation', 'facets', 'mechanics', 'energetics', 'wedding', 'discourse', 'fan', 'exaggeration', 'television', 'brand', 'transmedia', 'networks', 'intertextualities', 'storyworld', 'seasons', 'episodes', 'viewership', 'season', 'viewers', 'episode', 'video', 'novel', 'adaptation', 'companion', 'books', 'rap', 'albums', 'city', 'tour', 'variety', 'tabletop', 'toys', 'merchandise', 'apps', 'podcasts', 'fanfics', 'creations', 'volume', 'fandom', 'fans', 'network', 'paratexts', 'intertexts', 'narratives', 'microcosm', 'challenge', 'fire', 'hose', 'flow', 'practitioners', 'industry', 'consumer', 'humanists', 'transformations', 'plot', 'developments', 'material', 'screen', 'readers', 'events', 'show', 'narrative', 'inception', 'writers', 'spoilers', 'newbies', 'comment', 'threads', 'thread', 'outcome', 'comments', 'coding', 'categorization', 'tactics', 'categories', 'negotiation', 'sub-categories', 'examination', 'perspective', 'life', 'consumers', 'behaviors', 'pronunciation', 'mathematician', 'physicist', 'mathematicians', 'family', 'mathematics', 'fluid', 'probability', 'name', 'principle', 'carburetor', 'airplane', 'wing', 'frontpage', 'persecution', 'son', 'developers', 'calculus', 'nephew', 'brothers', 'father', 'contest', 'shame', 'equal', 'house', 'ideas', 'reconciliation', 'grudge', 'death', 'rewards', 'wish', 'medicine', 'condition', 'anatomy', 'botany', 'friend', 'professor', 'illness', 'excuse', 'chairs', 'metaphysics', 'philosophy', 'desirability', 'motion', 'motions', 'translation', 'rotation', 'memoir', 'tides', 'memoirs', 'prize', 'investigations', 'papers', 'strings', 'fluids', 'blood', 'pressure', 'wall', 'pipe', 'straw', 'height', 'physicians', 'patients', 'glass', 'tubes', 'arteries', 'doctor', 'aircraft', 'plane', 'law', 'ρ', 'u', 'constant', 'density', 'velocity', 'consequence', 'aeroplane', 'ancestry', 'province', 'physics', 'classmate', 'leader', 'ph.d.', 'dissertation', 'interests', 'music', 'interpreter', 'dialect', 'effort', 'gift', 'acuity', 'career', 'physician', 'year', 'ceremony', 'account', 'newspapers', 'couple', 'marriage', 'fieldwork', 'linguists', 'president', 'citizen', '1950s', 'members', 'senses', 'humor', 'love', 'jokes', 'puns', 'autobiography', 'invitation', 'wife', '1940s', 'daughter', 'engineer', 'plan', 'capital', 'painter', 'reputation', 'service', 'official', 'court', 'brother', 'side', 'colonials', 'captain', 'origins', 'colonies', 'portrait', 'prisoner', 'war', 'surrender', 'remainder', 'brevet', 'cause', 'liberty', 'badge', 'officers', 'eagle', 'request', 'insignias', 'veterans', 'engineering', 'firm', 'fame', 'architect', 'hall', 'furniture', 'houses', 'coins', 'medals', 'insignia', 'correspondances', 'no.', 'degrees', 'linguist', 'linguistics', 'fellow', 'syntax', 'semantics', 'conference', 'celebration', 'birthday', 'discharge', 'girls', 'doctorate', 'proponent', 'phase', 'theories', 'agent', 'patient', 'locations', 'roles', 'relations', 'theta', 'move', 'event', 'seller', 'buyer', 'good', 'minds', 'addressee', 'pragmatics', 'utterance', 'phenomena', 'constraint', 'formalisms', 'notion', 'construction', 'grammars', 'merits', 'variants', 'founders', 'chapter', 'legacy', '1990s', 'lexicography', 'discussions', 'collaborations', 'dictionary', 'future', 'sentences', 'corpora', 'lexicon', 'expulsion', 'class', 'algebra', 'activism', 'priority', 'equations', 'argument', 'rigor', 'rejection', 'report', 'note', 'opinion', 'arrest', 'prison', 'character', 'letter', 'advice', 'manuscripts', 'release', 'duel', 'motives', 'speculation', 'affair', 'letters', 'woman', 'hostel', 'months', 'fragments', 'portions', 'troubles', 'behalf', 'conjecture', 'friends', 'cousin', 'uncle', 'fiancé', 'victim', 'coquette', 'dupes', 'biographers', 'incident', 'police', 'factions', 'enemy', 'opponent', 'artillery', 'acquittal', 'banquet', 'assertion', 'newspaper', 'clippings', 'initials', 'charges', 'identity', 'killer', 'testament', 'novelty', 'profundity', 'piece', 'writing', 'mankind', 'legend', 'edges', 'manuscript', 'memorial', 'cemetery', 'grave', 'morning', 'abdomen', 'opponents', 'seconds', 'farmer', 'peritonitis', 'offices', 'priest', 'funeral', 'riots', 'plans', 'uprising', 'leaders', 'rising', 'courage', 'town', 'cenotaph', 'honour', 'graves', 'relatives', 'actor', 'debut', 'tv', 'film', 'breakthrough', 'comedy', 'nomination', 'string', 'films', 'drama', 'praise', 'superhero', 'latter', 'lookout', 'shows', 'mini-serial', 'journalist', 'miniseries', 'fantasy', 'romance', 'prequel', 'man', 'daughters', 'play', 'geologist', 'mother', 'nurse', 'amateur', 'theatre', 'director', 'presenter', 'village', 'bust', 'admiral', 'origin', 'holders', 'estate', 'branch', 'ranks', 'trooper', 'advisor', 'parish', 'mind', 'journey', 'foot', 'parts', 'restoration', 'experiences', 'soldier', 'fortune', 'army', 'mission', 'wars', 'corruption', 'venality', 'officials', 'wit', 'vexation', 'major', 'command', 'lieutenant', 'tsar', 'intolerance', 'adventure', 'expeditions', 'revolution', 'troops', 'favour', 'absence', 'rampart', 'tomb', 'achievements', 'permission', 'church', 'benefactor', 'brigadier', 'west', 'rank', 'hands', 'eyes', 'remains', 'inscription', 'german', 'diary', 'editorship', 'edition', 'vols', 'kinsman', 'award', 'architecture', 'curve', 'centre', 'designs', 'statuette', 'buildings', 'venue', 'industrialist', 'organisation', '1930s', 'co-founder', 'minister', 'finance', 'overthrow', 'monarch', 'artist', '1960s', 'boarding', 'graduation', 'planet', 'orbit', 'pupil', 'inventor', 'vision', 'pieces', 'staircases', 'staircase', 'head', 'ceiling', 'corner', 'joinery', 'painting', 'hotel', 'bridge', 'suprematist', 'pen', 'stories', 'writer', 'ends', 'needlework', 'washing', 'jobs', 'success', 'novelist', 'fiction', 'story', 'poet', 'editors', 'womanizer', 'mentor', 'theme', 'break', 'plots', 'sentiment', 'trademark', 'background', 'ragamuffin', 'ambition', 'cruelty', 'earnest', 'neighborhood', 'stationery', 'store', 'dwelling', 'minute', 'walk', 'district', 'concern', 'plight', 'women', 'distinctiveness', 'acceptance', 'characters', 'awareness', 'suffering', 'admirers', 'critics', 'interruptions', 'headaches', 'tuberculosis', 'likeness', 'banknote', 'fall', 'movies', 'baseman', 'shortstop', 'outfielder', 'batting', 'average', 'runs', 'teams', 'present', 'highlights', 'awards', 'champion', 'baseball', 'infielder', 'pitcher', 'catcher', 'feet', 'inches', 'pounds', 'kg', 'freshman', 'team', 'league', 'inclusion', 'sophomore', 'honors', 'rbis', 'bases', 'club', 'round', 'pick', 'teammate', 'leagues', 'affiliate', 'injury', 'ligament', 'mvp', 'run', 'homer', 'inning', 'minors', 'rosters', 'promotion', 'hit', 'majors', 'rbi', 'championship', 'ring', 'postseason', 'catch', 'warning', 'bottom', 'doubles', 'confessor', 'theologian', 'historian', 'border', 'writings', 'protégé', 'teachings', 'centers', 'lives', 'focus', 'patron', 'ascetics', 'families', 'saint', 'feast', 'hermit', 'island', 'grammarian', 'familiarity', 'schoolboy', 'escapades', 'experimentation', 'bouts', 'guilt', 'conscience', 'sundays', 'sepulchres', 'martyrs', 'apostles', 'catacombs', 'terrors', 'hell', 'crypts', 'earth', 'walls', 'windows', 'shafts', 'horror', 'darkness', 'quote', 'sides', 'silence', 'terror', 'soul', 'practices', 'pederasty', 'citation', 'conversion', 'commentary', 'treatise', 'stay', 'companions', 'illnesses', 'winter', 'classics', 'impulse', 'heresy', 'desire', 'penance', 'desert', 'southeast', 'eremites', 'attempt', 'guidance', 'jew', 'correspondence', 'christians', 'notes', 'pseudonym', 'personality', 'vlogger', 'comedian', 'actress', 'channel', 'subscribers', 'star', 'wax', 'chemist', 'patents', 'bachelor', 'master', 'sport', 'counseling', 'summer', 'bedroom', 'apartment', 'rent', 'tanning', 'salon', 'go', 'nightclubs', 'female', 'guys', 'dance', 'genitalia', 'backside', 'surname', 'videos', 'employers', 'banana', 'segment', 'movie', 'selfie', 'affairs', 'assistant', 'manager', 'officer', 'podcast', 'boyfriend', 'conspiracy', 'guests', 'ventures', 'appearances', 'dogs', 'quotes', 'pop', 'countdown', 'producer', 'novels', 'vegan', 'resting', 'alma', 'mater', 'occupation', 'screenwriter', 'spouse(s)', 'singer', 'recipient', 'lifetime', 'actresses', 'comédie', 'performances', 'vehicle', 'showgirl', 'gangster', 'moll', 'prominence', '80s', 'dancer', 'restaurateur', 'native', 'descent', 'protestant', 'catholicism', 'girl', 'vacations', 'valley', 'tombstone', 'calling', 'conservatory', '20s', 'troupe', 'makers', 'directors', 'tycoon', 'jury', 'vocalist', 'acting', 'camera', 'accomplishments', 'equivalence', 'altar', 'call', 'saviour', 'diet', 'altitude', 'charter', 'member', 'pastor', 'resignation', 'lawyer', '1980s', 'lectures', 'pioneer', 'constituent', 'textbook', 'exercises', 'components', 'male', 'opposition', 'philologists', 'text', 'inter-animation', 'page', 'essay', 'meanings', 'symbols', 'phrases', 'translations', 'original', 'detail', 'message', 'messages', 'consideration', 'translator', 'intelligibility', 'misunderstanding', 'decoding', 'things', 'equivalents', 'equivalent', 'orientations', 'correspondences', 'sentence', 'gloss', 'reproduction', 'consistency', '2000s', 'candidate', 'partner', 'bully', 'boy', 'thriller', 'predators', 'demons', 'angels', 'manner', 'sci', 'fi', 'genre', 'title', 'host', 'reality', 'ratings', 'version', 'search', 'engagement', 'co-star', 'guest', 'front', 'realist', 'pair', 'hometown', 'birth', 'co-stars', 'election', 'funds', 'depression', 'addiction', 'suicide', 'struggles', 'shirt', 'faces', 'fund', 'shirts', 'panel', 'candles', 'battle', 'successor', 'federation', 'founder', 'icon', 'biography', 'hagiography', 'excesses', 'fourteen', 'monastery', 'diocese', 'virtues', 'destiny', 'passage', 'monk', 'obedience', 'favorite', 'comforter', 'reprimands', 'youth', 'steward', 'monasteries', 'monks', 'watch', 'reprimand', 'governing', 'popularity', 'demotion', 'verge', 'glory', 'weeping', 'prayer', 'solitude', 'normalcy', 'charge', 'submission', 'rebels', 'headquarters', 'predecessors', 'spite', 'shifting', 'prediction', 'folks', 'table', 'ice', 'pan', 'steam', 'pot', 'rock', 'choir', 'road', 'itinerary', 'sholids', 'solid', 'shape', 'bath', 'soda', 'milk', 'liquid', 'container', 'cloud', 'gas', 'heat', 'balloons', 'sled', 'balloon', 'counting', 'suspense', 'trinity', 'complexities', 'nation', 'breakfast', 'hole', 'counter', 'molecules', 'equipment', 'hooves', 'horses', 'stuff', 'living', 'horse', 'dad', 'thing', 'lecture', 'lab', 'lot', 'skeleton', 'ligaments', 'tendons', 'shoulder', 'hoof', 'knife', 'guide', 'bit', 'pebbles', 'clods', 'dirt', 'burners', 'iron', 'blacksmithing', 'coals', 'horseshoe', 'shoes', 'matter', 'farriers', 'farrier', 'trimmer', 'shoer', 'horseshoes', 'aught', 'ones', 'ponies', 'gifts', 'mom', 'presents', 'mysteries', 'elves', 'babe', 'keys', 'bread', 'baking', 'steel', 'sweatshirts', 'yellow', 'thanks', 'sweater', 'hon', 'tights', 'rum', 'fruitcake', 'kid', 'back', 'room', 'picture', 'tie', 'photo', 'party', 'dollars', 'carpet', 'job', 'contractor', 'employees', 'burden', 'payment', 'procedure', 'helpers', 'check', 'wage', 'cents', 'deduction', 'employer', 'window', 'witness', 'attorney', 'sir', 'dispute', 'checks', 'honor', 'yard', 'crews', 'payroll', 'contractors', 'independents', 'statements', 'remodel', 'remodels', 'wages', 'levels', 'agility', 'men', 'situations', 'deductions', 'subcontractor', 'security', 'breakdown', 'total', 'unemployment', 'insurance', 'worker', 'compensation', 'egg', 'freedom', 'will', 'evening', 'setting', 'pamphlet', 'assault', 'theology', 'purgatory', 'indulgences', 'nonsense', 'razor', 'throat', 'style', 'dunderheads', 'doctrine', 'sin', 'fate', 'grace', 'deeds', 'pronouncements', 'dignity', 'man-', 'semi-pelagianism', 'salvation', 'person', 'arguments', 'prerogative', 'judgment', 'mercy', 'damnation', 'center', 'predestination', 'dogma', 'reformer', 'teaching', 'preconditions', 'circumstances', 'paragraph', 'contrary', 'whore', 'rider', 'passages', 'disciples', 'sayings', 'paradox', 'kids', 'yesterday', 'carpenter', 'floor', 'barn', 'hay', 'lunch', 'deal', 'dinner', 'lemon', 'tea', 'honey', 'cold', 'potty', 'boys', 'idiot', 'hospital', 'bronchitis', 'news', 'sort', 'emergency', 'fever', 'brain', 'damage', 'pediatrician', 'fevers', 'feathers', 'babies', 'immune', 'germs', 'car', 'babinos', 'nephews', 'middle', 'gestalt', 'psychotherapist', 'fault', 'drink', 'righ-', 'righty', 'bottle', 'while', 'grandpa', 'football', 'witch', 'baby', 'slobber', 'mouth', 'nose', 'tube', 'mist', 'poster', 'scientist', 'crusade', 'needs', 'cartoon', 'stone', 'statue', 'arms', 'rubble', 'knees', 'symbol', 'crumbs', 'myth', 'insanity', 'stars', 'microscope', 'communication', 'branches', 'connections', 'edge', 'bunch', 'guider', 'tool', 'thought', 'peace', 'consumerism', 'recheck', 'x', 'rays', 'tonight', 'antibiotics', 'anesthesia', 'distemper', 'vaccine', 'bandage', 'hold', 'afternoon', 'calculator', 'pins', 'cast', 'fracture', 'stifle', 'legs', 'tibia', 'hock', 'estimate', 'coming', 'bill', 'anasthesia', 'casting', 'extra', 'pin', 'alternative', 'kitty', 'castration', 'tomorrow', 'bye', 'root', 'thirds', 'i', 'bed', 'arm', 'fraction', 'denominator', 'square', 'top', 'twos', 'z', 'roots', 'telling', 'fifths', 'asshole', 'kitchen', 'glaze', 'wrinkles', 'headset', 'neck', 'marine', 'buddies', 'profanity', 'bass', 'gunfire', 'coverage', 'miracle', 'travel', 'fireplaces', 'explosions', 'lawsuits', 'heels', 'ops', 'garlic', 'yams', 'tune', 'drug', 'dealer', 'ham', 'maple', 'bursts', 'rifle', 'eggnog', 'envelopes', 'door', 'v', 'undershirt', 'pants', 'belly', 'neckhole', 'trail', 'armholes', 'robe', 'mortality', 'doll', 'belt', 'tug', 'waist', 'bills', 'currency', 'pocket', 'shouting', 'mosaic', 'snowscape', 'hdtv', 'blinds', 'landmine', 'pans', 'potatoes', 'sink', 'gingerbread', 'batter', 'bowl', 'fight', 'stink', 'jingle', 'bell', 'cell', 'nutcrackers', 'secretary', 'fingers', 'towel', 'microphone', 'mic', 'phone', 'girdle', 'button', 'arrow', 'diving', 'tree', 'heaven', 'sake', 'grandmother', 'adults', 'gaps', 'lightness', 'spirit', 'singing', 'bench', 'warmth', 'grief', 'intensity', 'childhood', 'maturity', 'worth', 'strength', 'depth', 'shins', 'face', 'color', 'confusion', 'religion', 'mystery', 'basement', 'attic', 'insecurities', 'fears', 'ignorance', 'album', 'discovery', 'cascade', 'revelations', 'dining', 'coffee', 'imagination', 'feelings', 'abandonment', 'storybooks', 'relative', 'realization', 'image', 'aura', 'emptiness', 'guy', 'cashier', 'mall', 'asthma', 'attack', 'cookie', 'treat', 'food', 'deck', 'cards', 'fish', 'match', 'silk', 'scarf', 'noise', 'card', 'chocolate', 'shoulders', 'gym', 'shorts', 'underwear', 'bag', 'inhaler', 'lungs', 'booster', 'seat', 'driveway', 'look', 'girlfriend', 'nerves', 'sandwich', 'roughhousing', 'garage', 'hair', 'garden', 'drops', 'rain', 'stones', 'sky', 'mineral', 'breath', 'belief', 'leaf', 'grass', 'stems', 'folds', 'blue', 'sight', 'spattering', 'shoots', 'tendrils', 'humus', 'vapour', 'trails', 'porch', 'downfall', 'torrents', 'tapping', 'roof', 'roar', 'pools', 'lawn', 'raspberry', 'canes', 'flower', 'beds', 'earthworms', 'haven', 'barrels', 'cans', 'eaves', 'gutters', 'pathways', 'stairs', 'planks', 'raft', 'beat', 'logs', 'leaves', 'boxes', 'bowls', 'basket', 'chair', 'can', 'cuttings', 'river', 'street', 'rooftops', 'hallway', 'rocks', 'mermaids', 'crest', 'voices', 'winds', 'salt', 'preparation', 'seaweed', 'locks', 'reach', 'flick', 'elbows', 'socks', 'tide', 'worm', 'wake', 'tiles', 'chimney', 'stacks', 'downpour', 'blues', 'greens', 'greys', 'white', 'waters', 'whale', 'clouds', 'maw', 'voice', 'chimneys', 'barnacles', 'cockles', 'creaking', 'cracking', 'patch', 'troughs', 'crests', 'sails', 'galleon', 'masts', 'timbers', 'mermaid', 'bow', 'ship', 'wash', 'rope', 'sailors', 'net', 'jewels', 'finery', 'pillagings', 'marble', 'mausoleum', 'heart', 'husband', 'box', 'mud', 'riverboatmen', 'linen', 'shrouds', 'graveyards', 'farmland', 'delta', 'hills', 'granddaughter', 'dress', 'brocade', 'patio', 'poverty', 'failure', 'disrepute', 'young', 'grandmothers', 'waterfront', 'dockworkers', 'mah', 'jongg', 'giants', 'rouge', 'creases', 'traveler', 'crow', 'hanks', 'soot', 'red', 'triumph', 'delight', 'streets', 'smell', 'docks', 'bits', 'debris', 'massage', 'trees', 'sunlight', 'pack', 'courtyard', 'heap', 'loaves', 'flatbread', 'olives', 'cheese', 'clothes', 'pills', 'glasses', 'jug', 'wine', 'can-teen', 'shadow', 'blanket', 'vineyards', 'noons', 'frustration', 'knots', 'chicken', 'prologue', 'remnants', 'empire', 'mistakes', 'galaxy', 'billions', 'starfighter', 'metal', 'graveyard', 'options', 'radar', 'anxiety', 'calibration', 'cockpit', 'comfort', 'ships', 'frontline', 'footage', 'battleships', 'hill', 'starfighters', 'locusts', 'pursuers', 'flight', 'deployment', 'carrier', 'pilots', 'ears', 'fighter', 'names', 'cockpits', 'helmets', 'deaths', 'fighters', 'catapult', 'stand', 'survival', 'cities', 'planets', 'mistake', 'visions', 'row', 'soldiers', 'emblem', 'breast', 'helmet', 'heads', 'spheres', 'groove', 'scowl', 'ruby', 'stomach', 'doom', 'hope', 'protest', 'ladder', 'zombie', 'switches', 'buttons', 'confirmations', 'screens', 'craft', 'thick', 'moon', 'scenes', 'flowers', 'seas', 'foliage', 'dreams', 'crystal', 'stream', 'ripples', 'currents', 'oceans', 'banks', 'lotos', 'blossoms', 'shore', 'fear', 'lure', 'vistas', 'shrubs', 'idols', 'pagodas', 'bendings', 'bridges', 'lips', 'steps', 'marshes', 'reeds', 'beaches', 'sand', 'perfumes', 'nets', 'secrets', 'spires', 'columns', 'festoons', 'dead', 'condor', 'reef', 'towers', 'roofs', 'nostrils', 'perfume', 'stench', 'spot', 'flesh', 'churchyards', 'worms', 'horrors', 'writhing', 'chill', 'afar', 'rim', 'basalt', 'crown', 'eikon', 'forehead', 'moonlight', 'ooze', 'miles', 'slinking', 'shallows', 'oversite', 'sleeve', 'muscle', 'biceps', 'examining', 'couch', 'desk', 'implant', 'antiseptic', 'lidocaine', 'injection', 'chip', 'gun', 'grade', 'nights', 'parking', 'olds', 'couches', 'retriever', 'sticks', 'dream', 'past', 'scramblers', 'vampires', 'outcasts', 'misfortune', 'genotype', 'nearsightedness', 'acne', 'susceptibility', 'narcotics', 'relics', 'handiwork', 'playground', 'taunts', 'mongrel', 'polly', 'blows', 'attackers', 'act', 'defiance', 'odds', 'sandbox', 'buddy', 'backup', 'sentry', 'violence', 'seizures', 'distance', 'stranger', 'insults', 'route', 'a', 'b', 'wiring', 'algorithms', 'weaklings', 'midst', 'superboys', 'ribs', 'propaganda', 'empathy', 'underdog', 'fist', 'assailants', 'backs', 'threat', 'blow', 'cheek', 'satisfaction', 'irony', 'remark', 'other', 'ball', 'fours', 'reinforcements', 'fists', 'fuckwad', 'ep', 'epilepsy', 'tub', 'crossword', 'clang', 'radiators', 'swish', 'taxis', 'slush', 'reverie', 'squawk', 'bathroom', 'splash', 'tile', 'thump', 'bathtub', 'soap', 'nylon', 'pixies', 'drain', 'lever', 'squeak', 'sugarcane', 'polish', 'puppy', 'lip', 'footprints', 'wood', 'ichor', 'pixie', 'brunt', 'baths', 'soup', 'dishes', 'equinox', 'goodbye', 'super', 'boiler', 'buzzers', 'yoga', 'navel', 'earthquakes', 'sprites', 'bruise', 'butt', 'karma', 'press', 'abandon', 'farm', 'strawberries', 'weekend', 'picnickers', 'tourists', 'exam', 'nails', 'outfit', 'mirror', 'crease', 'talent', 'admiration', 'lust', 'weekday', 'bike', 'library', 'checkout', 'graduate', 'hairs', 'collar', 'rectangle', 'thumb', 'forefinger', 'pages', 'tatters', 'spine', 'binding', 'joke', 'halt', 'wheel', 'fairy', 'itching', 'tissue', 'lots', 'goo', 'disgust', 'handkerchief', 'remarks', 'finger', 'reply', 'insect', 'trick', 'leprechauns', 'noggins', 'moans', 'exams', 'answers', 'spider', 'palm', 'wishes', 'flash', 'tales', 'sickness', 'travelling', 'saddle', 'fashion', 'machine', 'dials', 'dial', 'thousands', 'levers', 'indicators', 'futurity', 'greyness', 'succession', 'pace', 'alternations', 'sun', 'last', 'twilight', 'comet', 'darkling', 'trace', 'circling', 'points', 'horizon', 'dome', 'extinction', 'slowing', 'drag', 'outlines', 'beach', 'north', 'blackness', 'south', 'scarlet', 'hull', 'vegetation', 'green', 'forest', 'moss', 'lichen', 'caves', 'plants', 'breakers', 'swell', 'breathing', 'margin', 'incrustation', 'oppression', 'sensation', 'mountaineering', 'scream', 'butterfly', 'hillocks', 'crab', 'creature', 'claws', 'antennæ', 'carters', 'whips', 'bosses', 'palps', 'blankets', 'furs', 'dark', 'teacher', 'lingua', 'anthropologist', 'offworlders', 'touch', 'colony', 'peoples', 'clans', 'outrunners', 'offworlder', 'stabros', 'hero', 'drinking', 'shooting', 'da', 'versions', 'illustrations', 'prayers', 'wafer', 'human', 'coat', 'heavens', 'allegory', 'resurrection', 'puzzles', 'deer', 'images', 'inscriptions', 'trumpets', 'procession', 'king', 'chamber', 'lion', 'fountain', 'relief', 'spirits', 'habit', 'sword', 'plaque', 'monuments', 'humankind', 'harm', 'god', 'counsel', 'balm', 'brethren', 'biologist', 'ants', 'file', 'adaptations', 'insects', 'parasite', 'doubt', 'ant', 'species', 'aphid', 'honeydew', 'stumps', 'fungus', 'hydrogen', 'peroxide', 'fatalities', 'intake', 'concentration', 'wild', 'aphids', 'blog', 'pun', 'topic', 'jargon', 'cicada', 'studymate', 'beetles', 'butterflies', 'mantids', 'nest', 'biology', 'internship', 'professors', 'supervision', 'budget', 'setups', 'trunks', 'logging', 'sites', 'nests', 'concrete', 'squares', 'cd', 'tunnel', 'foraging', 'arena', 'cloth', 'oxygen', 'ros', 'spectrophotometer', 'spores', 'concentrations', 'agar', 'experiment', 'experimenter', 'magic', 'entertainment', 'tricks', 'dragons', 'magician', 'influences', 'magicians', 'internet', 'hobby', 'monkey', 'month', 'props', 'activist', 'philosopher', 'socialist', 'bestseller', 'non-fiction', 'scholar', 'office', 'protests', 'counter-conference', 'talks', 'alliance', 'aggression', 'defense', 'administration', 'concession', 'east', 'zone', 'inch', 'weapons', 'basis', 'promise', 'pledge', 'strike', 'remilitarization', 'militarism', 'missile', 'provocation', 'deterrent', 'weapon', 'missiles', 'commandant', 'pipelines', 'lanes', 'guarantor', 'supplies', 'revival', 'strikes', 'countries', 'signs', 'management', 'ownership', 'factory', 'scope', 'cocktail', 'owners', 'beverage', 'santorum', 'neologism', 'columnist', 'column', 'homosexuality', 'mixture', 'lube', 'byproduct', 'sex', 'parody', 'webcomic', 'polls', 'ingredients', 'vodka', 'bitters', 'flakes', 'bartender', 'customer', 'pucker', 'bestiality', 'spread', 'searches', 'dominance', 'engines', 'existence', 'prevalence', 'assessment', 'filth', 'mainstream', 'product', 'primary', 'satire', 'pros', 'customers', 'dessert', 'cream', 'pie', 'publicity', 'anemone', 'hopes', 'identification', 'ecosystem', 'expectation', 'trip', 'biologists', 'geologists', 'anemones', 'antifreeze', 'glow', 'rov', 'difficulties', 'specimens', 'formalin', 'formaldehyde', 'structures', 'dna', 'chemistry', 'genome', 'transcriptome', 'metabolome', 'tests', 'burrows', 'comparisons', 'animal', 'beasts', 'luminescence', 'proteins', 'magnification', 'slices', 'microtome', 'slides', 'muscles', 'capsules', 'nematocysts', \"'scopes\", 'recovery', 'projects', 'queue', 'email', 'tag', 'schedules', 'etc.', 'preservatives', 'specimen', 'preservation', 'genes', 'clones', 'localities', 'bdsm', 'dungeon', 'clothing', 'supply', 'closet', 'misconception', 'magazines', 'snippets', 'black', 'rooms', 'accouterments', 'feeling', 'ads', 's&m', 'ad', 'wow', 'startup', 'rents', 'build-outs', 'hiring', 'advertising', 'cost', 'bulk', 'wear', 'tear', 'maintenance', 'bookkeeping', 'gals', 'policy', 'mistresses', 'psychologist', 'leg', 'asses', 'profile', 'chart', 'baseline', 'profiles', 'amalgamation', 'indicator', 'iq', 'wiki', 'how', 'manual', 'license', 'goal', 'instructions', 'status', 'readership', 'visitors', 'milestone', 'volunteers', 'respects', 'admins', 'editor', 'company', 'advantages', 'disadvantages', 'opt', 'donations', 'revenue', 'meetups', 'charities', 'carbon', 'offsets', 'wikilove', 'civility', 'individual', 'resource', 'advertisers', 'markets', 'sacrifices', 'breadth', 'proceeds', 'websites', 'volunteer', 'users', 'gnu', 'document', 'driver', 'retrospect', 'minimum', 'wikis', 'circle', 'editing', 'attitudes', 'stamp', 'contents', 'wheelchair', 'basketball', 'visibility', 'sports', 'dedication', 'qualifications', 'ethnicity', 'nationality', 'athletes', 'majority', 'disability', 'masculinity', 'males', 'perseverance', 'contexts', 'channels', 'broadcasting', 'cable', 'hour', 'daytime', 'broadcasters', 'competitions', 'pity', 'multitude', 'expectations', 'catalog', 'podcasters', 'audiobooks', 'favourite', 'ed.', 'index', 'audio', 'poem', 'copyright', 'licenses', 'print', 'titles', 'simplicity', 'beer', 'texts', 'pay', 'tome', 'silver', 'bronze', 'medalist', 'cafe', 'suburb', 'spitfire', 'tournament', 'trips', 'occurrence', 'competition', 'readings', 'concerts', 'states', 'twenties', 'tidbit', 'coffeehouses', 'musicians', 'autograph', 'cds', 'late', 'depths', 'adversity', 'telegram', 'poems', 'drums', 'ferry', 'boats', 'goods', 'stanza', 'occasion', 'hesitation', 'reward', 'patrons', 'e-mail', 'successes', 'failures', 'section', 'stadium', 'banner', 'playoffs', 'eggshells', 'ticket', 'holder', 'hug', 'tears', 'jersey', 'nickname', 'runner', 'journalism', 'reporter', 'headline', 'drafts', 'photojournalism', 'headlines', 'zeitgeist', 'portrayal', 'cross', 'take', 'traffic', 'analogy', 'chief', 'tasting', 'laugh', 'mess', 'victims', 'fathers', 'humanity', 'ink', 'armies', 'customs', 'borders', 'distances', 'generations', 'terrorists', 'modernity', 'nationalities', 'patience', 'histories', 'values', 'wisdom', 'elephants', 'helicopters', 'noses', 'machines', 'prejudices', 'commitments', 'brains', 'wealth', 'oil', 'gnp', 'adage', 'beings', 'battles', 'futures', 'continuation', 'doors', 'wikinews', 'symmetry', 'conjectures', 'beauty', 'worlds', 'math', 'surprises', 'psychoanalysis', 'breaks', 'consciousness', 'opening', 'overtures', 'scapes', 'turtle', 'tragedies', 'secret', 'narrator', 'emails', 'distortions', 'forth', 'capsule', 'rendering', 'missions', 'discoverer', 'medium', 'pov', 'rocket', 'pad', 'trajectory', 'dust', 'particles', 'micron', 'collector', 'particle', 'tenth', 'meter', 'astrophysics', 'chips', 'meteorites', 'stratosphere', 'aerogel', 'html', 'javascript', 'browsers', 'downloads', 'tracks', 'slice', 'blade', 'spacecraft', 'detectors', 'flux', 'periods', 'cruise', 'millionth', 'microns', 'diameter', 'demo', 'submicron', 'carbonyl', 'accelerator', 'speeds', 'impacts', 'visa', 'snags', 'achievement', 'robotics', 'teenagers', 'medal', 'visas', 'notice', 'robots', 'balls', 'pairs', 'coach', 'matchup', 'robot', 'km', 'territory', 'interplay', 'parole', 'grounds', 'entry', 'benefit', 'criticism', 'ban', 'atmosphere', 'hostility', 'privacy', 'nations', 'refugees', 'refugee', 'transit', 'aspirations', 'resilience', 'advance', 'asylum', 'seekers', 'coast', 'fishermen', 'boat', 'spokesman', 'military', 'fisherman', 'warship', 'minority', 'migrants', 'navy', 'contact', 'parties', 'trafficking', 'routes', 'smugglers', 'housing', 'spokesperson', 'rescue', 'estimates', 'clock', 'creator', 'vip', 'dignitaries', 'tweet', 'bomb', 'hashtag', 'academic', 'conversation', 'race', 'punishment', 'incarceration', 'outreach', 'finalists', 'hastag', 'islamophobia', 'option', 'facebook', 'causes', 'feedback', 'crane', 'collapse', 'pilgrims', 'storm', 'casualties', 'photos', 'mosque', 'toll', 'hajj', 'pilgrimage', 'duty', 'crowd', 'pilgrimages', 'defector', 'reports', 'building', 'us$', 'bail', 'drives', 'zip', 'drive', 'contract', 'lifetimes', 'lifestyle', 'income', 'defectors', 'lies', 'mail', 'bars', 'exit', 'detective', 'investigator', 'anti-christ', 'representative', 'theft', 'sheriff', 'station', 'lobby', 'crime', 'musician', 'financing', 'penitentiary', 'sins', 'lifehood', 'slavery', 'taste', 'pockets', 'politicians', 'turnout', 'voters', 'rate', 'camp', 'constituencies', 'seats', 'veto', 'third', 'reforms', 'council', 'campus', 'vote', 'constituency', 'pan-democrat', 'votes', 'candidates', 'democracy', 'dab', 'councillors', 'newcomers', 'leadership', 'defeat', 'pro-beijing', 'victory', 'elects', 'veteran', 'activists', 'politician', 'councillor', 'nonpartisan', 'pan-democrats', 'independent', 'elections', 'polling', 'queues', 'ballot', 'convention', 'genres', 'anime', 'comics', 'corners', 'facility', 'vendors', 'celebrity', 'organizations', 'costumes', 'winner', 'illustrator', 'farewell', 'schedule', 'attendees', 'demonstration', 'players', 'elevator', 'manor', 'murder', 'gamers', 'rounds', 'stands', 'matches', 'finals', 'gameplay', 'rush', 'displays', 'charity', 'garrison', 'on', 'raffles', 'sales', 'booth', 'showdown', 'stormtroopers', 'five', 'cosplay', 'craftsmanship', 'outfits', 'parade', 'halls', 'cross-section', 'eras', 'scratch', 'cosplayer', 'gardens', 'photographer', 'forearm', 'torso', 'superheroes', 'flag', 'conferences', 'roadshows', 'meeting', 'chairman', 'twelve', 'kits', 'referendums', 'pole', 'monument', 'rationale', 'referendum', 'zealander', 'verdict', 'poll', 'quarter', 'decrease', 'hackers', 'posting', 'spinoff', 'requests', 'post', 'posters', 'skirmish', 'newsgroups', 'documents', 'computers', 'obsession', 'insurgency', 'blogger', 'homepage', 'anarchy', 'scientology', 'pigmy', 'gmt', 'posts', 'denial', 'newsgroup', 'alt.religion.scientology', 'attacks', 'fold', 'visits', 'category', 'browser', 'market', 'share', 'rival', 'blip', 'markup', 'vulnerabilities', 'risk', 'protection', 'threats', 'durability', 'usefulness', 'teenager', 'passport', 'engine', 'mum', 'ex-husband', 'midnight', 'sleep', 'removal', 'asbestos', 'confrontation', 'retreat', 'allegations', 'labour', 'agency', 'alert', 'maniacs', 'shells', 'pretext', 'shell', 'commander', 'wartime', 'loudspeaker', 'commanders', 'warfare', 'tools', 'broadcast', 'counteractions', 'injuries', 'dozens', 'loudspeakers', 'lull', 'broadcasts', 'militaries', 'downtown', 'mayor', 'switch', 'lantern', 'park', 'centerpiece', 'concert', 'pig', 'fog', 'laser', 'festival', 'zodiac', 'luck', 'festivals', 'celebrations', 'circumference', 'counties', 'lanterns', 'entrance', 'swords', 'devil', 'transportation', 'hubs', 'subway', 'exodus', 'crowds', 'stops', 'weekends', 'photographers', 'debutants', 'possession', 'scoring', 'foul', 'penalty', 'referee', 'header', 'left', 'debutans', 'scoreboard', 'volley', 'assist', 'shot', 'goalkeeper', 'kick', 'defender', 'none', 'draw', 'stampede', 'pillar', 'stoning', 'rites', 'luggage', 'bus', 'bottleneck', 'pillars', 'faith', 'safeguards', 'pilgrams', 'crush', 'cameras', 'personnel', 'stampedes', 'municipalities', 'taxes', 'resistance', 'deputies', 'refusals', 'nursery', 'retirement', 'administrations', 'euros', 'arrears', 'tax', 'criterion', 'undersecretary', 'association', 'fees', 'counter-measures', 'ideology', 'supporters', 'secularist', 'magazine', 'judgement', 'petition', 'signatures', 'exhibits', 'polaroids', 'exhibit', 'prints', 'galleries', 'museums', 'donor', 'program', 'reporters', 'donors', 'organizers', 'gelatin', 'curator', 'exhibition', 'jkthom', 'photography', 'foundation', 'photographs', 'artifacts', 'donation', 'anniversary', 'treasurer', 'stipulation', 'polaroid', 'attendance', 'superstars', 'celebrities', 'songwriter', 'shots', 'passion', 'disco', 'studio', 'tennis', 'golf', 'designer', 'resident', 'unknowns', 'documentation', 'glimpse', 'touchstones', 'worship', 'buzzwords', 'sixties', 'non-art', 'associate', 'fascination', 'booths', 'photograph', 'paint', 'businessperson', 'salesman', 'choices', 'instructor', 'diety', 'installation', 'helium', 'touches', 'refreshment', 'tables', 'gumball', 'bands', 'wig', 'instant', 'goers', 'mobiles', 'lesson', 'reuse', 'snap', 'warming', 'ozone', 'crops', 'wheat', 'rice', 'maize', 'soybean', 'crop', 'yields', 'scenarios', 'coauthor', 'projections', 'undernourishment', 'covariation', 'estimation', 'benefits', 'pollutants', 'agriculture', 'dicot', 'cotton', 'peanut', 'yield', 'monocot', 'sorghum', 'corn', 'dioxide', 'weather', 'floods', 'droughts', 'distribution', 'weeds', 'pests', 'diseases', 'cleanup', 'increase', 'regulations', 'deities', 'worshippers', 'ruling', 'denomination', 'gods', 'religions', 'polytheism', 'pleasure', 'ninth', 'prosperity', 'civilization', 'fulfilment', 'aspiration', 'integration', 'capacities', 'legislation', 'deepening', 'summit', 'negotiations', 'freedoms', 'conventions', 'programmes', 'persons', 'minorities', 'committees', 'treaties', 'guardians', 'signatory', 'strategy', 'pattern', 'per', 'agencies', 'assistance', 'tendencies', 'motto', 'trade', 'agreements', 'corridors', 'investment', 'meantime', 'partnership', 'initiatives', 'strengthening', 'telecommunications', 'ministries', 'o', 'pm', 'balconies', 'devices', 'ledger', 'innovation', 'nodes', 'neighbors', 'precision', 'sensors', 'divide', 'mountains', 'drones', 'turbines', 'generators', 'code', 'earthquake', 'disaster', 'prevention', 'bio', 'med', 'ministry', 'municipality', 'jurisdictions', 'partnerships', 'innovations', 'colonizers', 'co-creators', 'cabinet', 'it', 'ict', 'transformation', 'singularity', 'plurality', 'tryst', 'address', 'measure', 'stroke', 'dawn', 'striving', 'grandeur', 'ideals', 'misfortunes', 'triumphs', 'pains', 'hearts', 'sorrrow', 'ease', 'pledges', 'ending', 'disease', 'illwill', 'mansion', 'slumber', 'struggle', 'turning', 'responsibilities', 'burdens', 'torch', 'followers', 'imprint', 'humility', 'tempest', 'sisters', 'boundaries', 'sharers', 'endeavour', 'peasants', 'justice', 'fullness', 'obligations', 'communalism', 'mindedness', 'greetings', 'motherland', 'homage', 'speech', 'gentleman', 'reckoning', 'injustice', 'brutality', 'flags', 'agony', 'killings', 'epidemic', 'disabilities', 'policing', 'racism', 'heroes', 'uniform', 'responders', 'gratitude', 'apathy', 'aisle', 'misrepresentations', 'fairness', 'accountability', 'transparency', 'committee', 'sadness', 'forever', 'balance', 'summons', 'anxieties', 'heartbreaks', 'endowment', 'mandate', 'survivors', 'traditions', 'disquiet', 'traffickers', 'demagogues', 'warlords', 'fossil', 'fuels', 'chaos', 'dialogue', 'tragedy', 'landscape', 'terrorism', 'interferences', 'violation', 'resolutions', 'displacements', 'tensions', 'facilities', 'miscalculation', 'restraint', 'non-proliferation', 'mediation', 'surge', 'diplomacy', 'crises', 'investments', 'peacekeepers', 'civilians', 'initiative', 'troop', 'aid', 'shelter', 'sacrifice', 'counter-terrorism', 'extremism', 'disarmament', 'agenda', 'peninsula', 'transition', 'dysfunction', 'economies', 'sum', 'maiden', 'citadel', 'oaths', 'inauguration', 'throes', 'pandemic', 'oath', 'mob', 'criminals', 'brick', 'hooligans', 'adversaries', 'temple', 'division', 'hatred', 'mistruth', 'hardship', 'truths', 'unity', 'renewal', 'greatness', 'goodness', 'swearing', 'ascendance', 'segregationists', 'rabbi', 'bond', 'exterminator', 'housewife', 'descendant', 'awe', 'reverence', 'joy', 'delay', 'boldness', 'divisions', 'precedent', 'disappearance', 'finish', 'considerations', 'duties', 'quitter', 'instinct', 'vindication', 'inflation', 'noon', 'essential', 'wounds', 'bitterness', 'healing', 'regret', 'privilege', 'enemies', 'democrat', 'mayors', 'presidents', 'laws', 'governor', 'adviser', 'key', 'waste', 'mark', 'peacetime', 'coordination', 'enthusiasm', 'opportunities', 'certificates', 'comprehension', 'realisation', 're-purposing', 'cornerstones', 'continent', 'ladies', 'gentlemen', 'devolution', 'equity', 'progression', 'delivery', 'flagship', 'march', 'hub', 'competitiveness', 'enhancement', 'alignment', 'livelihoods', 'forefront', 'convenience', 'learners', 'courses', 'certification', 'juncture', 'graduands', 'modalities', 'penetration', 'mode', 'pursuit', 'briefing', 'releases', 'p.m.', 'unveiling', 'universe', 'humans', 'wonder', 'marvels', 'clarity', 'norms', 'telescope', 'allies', 'cosmos', 'sunshield', 'shutters', 'grain', 'galaxies', 'astronomy', 'ingenuity', 'possibilities', 'conditioner', 'victories', 'cars', 'stupidity', 'dumping', 'drugs', 'rapists', 'guards', 'competence', 'bullet', 'vehicles', 'gdp', 'statistic', 'arsenal', 'signals', 'clue', 'independence', 'loyalty', 'slaves', 'settlers', 'prohibition', 'trials', 'defendant', 'judge', 'administrator', 'proceeding', 'legislature', 'discontent', 'abolition', 'servants', 'slaveholders', 'slave', 'dislike', 'superiority', 'grants', 'credit', 'formation', 'revolt', 'revolutionaries', 'reluctance', 'immigration', 'delegates', 'settlements', 'suspension', 'resumption', 'tribes', 'granting', 'demands', 'statehood', 'provisions', 'commerce', 'regalia', 'promises', 'fort', 'congressman', 'push', 'intention', 'defenders', 'refuge', 'frontiersman', 'speculator', 'trader', 'frontier', 'survivor', 'complex', 'announcement', 'blinking', 'interactions', 'compulsion', 'blink', 'wink', 'winker', 'winking', 'anthropology', 'enculturation', 'punctuation', 'exclamation', 'distinction', 'instruction', 'morality', 'lessons', 'happenstance', 'virtue', 'assumptions', 'habits', 'leisure', 'hospitality', 'winks', 'trial', 'excellence', 'keyword', 'n.d.', 'aesthetics', 'zither', 'harmony', 'tranquillity', 'subtlety', 'inquiry', 'artworld', 'vol.', 'representationalism', 'expression', 'formalism', 'neoformalism', 'functionalism', 'institutionalism', 'historicism', 'limelight', 'realism', 'non-realism', 'empiricists', 'uniformity', 'libido', 'physiology', 'fitness', 'signal', 'qualities', 'figures', 'deformity', 'prototypes', 'entities', 'routine', 'facet', 'errands', 'bank', 'cleaners', 'grocery', 'creativity', 'psychologists', 'workplace', 'streams', 'impulses', 'sensations', 'sorts', 'files', 'groupings', 'accounts', 'stages', 'tolerance', 'routines', 'prototype', 'disobedience', 'segregation', 'mindset', 'endeavors', 'industries', 'venture', 'produce', 'farming', 'sprays', 'foods', 'vacuum', 'cleaner', 'bugs', 'bug', 'incubation', 'entrepreneurs', 'obstacle', 'embarrassment', 'dilemma', 'propensity', 'characteristic', 'disruptions', 'innovator', 'hotels', 'travelers', 'stocks', 'capitalization', 'margins', 'expense', 'bedrooms', 'motor', 'rental', 'sharing', 'programs', 'facts', 'ethics', 'assumption', 'non-philosophers', 'objectivity', 'illusion', 'realists', 'naturalism', 'naturalist', 'explanations', 'correctness', 'explanation', 'epistemology', 'justification', 'cry', 'viability', 'learner', 'motivation', 'grit', 'outlook', 'trait', 'tendency', 'predictors', 'gpa', 'dropout', 'attainment', 'aphorisms', 'essence', 'genius', 'inspiration', 'perspiration', 'attitude', 'chapters', 'guarantee', 'try', 'summaries', 'civilizations', 'lifestyles', 'inhabitants', 'glaciers', 'strait', 'y', 'chromosome', 'migration', 'cultures', 'woodland', 'populations', 'domestication', 'sustenance', 'hunting', 'gathering', 'interior', 'settlement', 'traits', 'ritual', 'bloodletting', 'edifices', 'calendar', 'eclipses', 'solstices', 'astronomers', 'planting', 'harvesting', 'temples', 'pyramids', 'obsidian', 'jewelry', 'jade', 'ornaments', 'cacao', 'beans', 'pottery', 'sculpture', 'sculptures', 'pyramid', 'aqueducts', 'squash', 'tomatoes', 'protein', 'jungle', 'serpent', 'pantheons', 'boulders', 'tons', 'decline', 'highlands', 'abundance', 'trades', 'builders', 'compounds', 'ties', 'farms', 'statues', 'observatories', 'drought', '1520s', 'glyphs', 'codices', 'singular', 'codex', 'natives', 'cliff', 'dwellings', 'ethnocentrism', 'relativism', 'common', 'universals', 'etiquette', 'mug', 'staple', 'cuisines', 'willingness', 'fare', 'cuisine', 'meat', 'guinea', 'cows', 'pigs', 'sociologist', 'restaurant', 'menu', 'pet', 'pride', 'disdain', 'intentions', 'imperialism', 'imposition', 'savages', 'governance', 'plant', 'varieties', 'disorientation', 'sociology', 'shock', 'discomfort', 'doubts', 'snowshoe', 'mortification', 'caribou', 'hunts', 'storms', 'tribe', 'lens', 'genital', 'mutilation', 'sociologists', 'xenocentrism', 'semester', 'spacetime', 'gravity', 'warping', 'accelerations', 'beams', 'arc', 'linkages', 'roommate', 'shish', 'kebabs', 'fireplace', 'dorm', 'dimension', 'subsection', 'gist', 'fabric', 'curving', 'beam', 'electron', 'distortion', 'skyscrapers', 'amusement', 'rides', 'relativity', 'smartphone', 'meters', 'gps', 'satellites', 'dwarf', 'sheet', 'diagrams', 'motorist', 'stretch', 'countryside', 'terrain', 'axis', 'diagram', 'starting', 'imaginations', 'rubber', 'comic', 'pebble', 'paperweight', 'sag', 'measures', 'quartiles', 'percentiles', 'quartile', 'percentile', 'median', 'quarters', 'hundredths', 'colleges', 'halves', 'outliers', 'outlier', 'abnormality', 'prices', 'salaries', 'calculation', 'min', 'max', 'vlog', 'snack', 'neighbor', 'backyard', 'quiet', 'pimple', 'patches', 'makeup', 'brushes', 'pillowcases', 'skincare', 'hormones', 'shit', 'therapy', 'trauma', 'therapist', 'bravery', 'angle', 'heck', 'a.m.', 'gate', 'filming', 'mood', 'deadlines', 'shower', 'am', 'co-op', 'marketing', 'workout', 'fit', 'massages', 'bitch', 'cup', 'chai', 'latte', 'serotonin', 'caffeine', 'avocado', 'sorority', 'pesto', 'pasta', 'penne', 'peppers', 'onion', 'fridge', 'chop', 'vlogs', 'hustle', 'like', 'click', 'bait', 'outro', 'socials', 'update', 'shortness', 'symptoms', 'symptom', 'mask', 'virus', 'clinics', 'appointment', 'e-visit', 'chills', 'sinuses', 'headache', 'congestion', 'sneeze', 'drop', 'buds', 'clip', 'apple', 'cider', 'vinegar', 'candle', 'smelling', 'capabilities', 'capability', 'pickle', 'juice', 'ginger', 'cayenne', 'pepper', 'burning', 'alcohol', 'mac', 'saltiness', 'textures', 'neuroscience', 'tfs', 'chem', 'neuro', 'bun', 'semi', 'final', 'inheritance', 'donuts', 'tulips', 'cinnamon', 'sugar', 'caramel', 'basil', 'lime', 'blackberry', 'matters', 'donut', 'wintertime', 'styling', 'sesame', 'seed', 'rose', 'coconut', 'butter', 'feel', 'jam', 'styler', 'stylers', 'vitamins', 'nutrients', 'formula', 'nutrient', 'botanicals', 'herbs', 'horsetail', 'scent', 'scents', 'twist', 'outs', 'braid', \"go's\", 'gel', 'gels', 'curl', 'jelly', 'aloe', 'rosemary', 'vera', 'jellies', \"o'clock\", 'shout', 'hiking', 'doorstep', 'shoe', 'soles', 'grip', 'boots', 'waterfall', 'loop', 'trailhead', 'highline', 'landmark', 'roads', 'bear', 'spray', 'mile', 'bush', 'bears', 'mama', 'cheers', 'pizza', 'beers', 'parks', 'thumbs', 'lipstick', 'lipsticks', 'cosmetics', 'doorbell', 'spring', 'cleaning', 'pile', 'expiration', 'pencils', 'stick', 'packaging', 'limit', 'shoot', 'pearls', 'updo', 'silicone', 'tone', 'touch-ups', 'springs', 'blush', 'shade', 'shades', 'highlight', 'lash', 'resort', 'bathrooms', 'aerosol', 'poison', 'ivy', 'chirping', 'gator', 'crocodile', 'tickets', 'wand', 'shop', 'owls', 'wands', 'ride', 'wait', 'train', 'cereal', 'cooking', 'toss', 'crust', 'sauce', 'onions', 'cook', 'maker', 'playing', 'crunch', 'plates', 'crisp', 'staples', 'pill', 'pregnancy', 'trimester', 'headspace', 'hindsight', 'gloom', 'midwife', 'checkups', 'app', 'appetite', 'aversions', 'toast', 'carbs', 'fruit', 'veg', 'jet', 'thingy', 'lagoon', 'winery', 'grape', 'aromas', 'fruits', 'gooseberry', 'flavors', 'palate', 'acidity', 'vintage', 'rosé', 'strawberry', 'hints', 'limes', 'lemons', 'meals', 'wines', 'styles', 'cellar', 'oak', 'grapes', 'flavor', 'stem', 'plum', 'tanins', 'palette', 'backbone', 'barrel', 'currant', 'pencil', 'shavings', 'cherries', 'platter', 'sips', 'recap', 'blend', 'islands', 'civilisation', 'outcrops', 'habitat', 'variant', 'mainland', 'requirements', 'controls', 'accommodation', 'tourism', 'flights', 'camps', 'transport', 'shipping', 'trading', 'vessel', 'passengers', 'freight', 'vessels', 'harbours', 'policeman', 'wharf', 'berthage', 'harbour', 'businesses', 'vans', 'locals', 'carvings', 'lodge', 'hr', 'rakau', 'ancestors', 'attraction', 'ports', 'anchorage', 'browse', 'mecca', 'buffs', 'treasures', 'marae', 'treasure', 'descendants', 'passing', 'shores', 'capita', 'residents', 'lakefront', 'mid-1980s', 'revitalization', 'comeback', 'moniker', 'planning', 'manufacturing', 'prowess', 'non-locals', 'riches', 'beginnings', 'rebirth', 'hotspots', 'orchestra', 'performing', 'r&d', 'aerospace', 'aviation', 'attractions', 'tourist', 'cuc', 'airlines', 'passports', 'departure', 'gateway', 'airports', 'mxn', 'usd', 'airline', 'airport', 'fine', 'authorities', 'advise', 'embassy', 'admin', 'postage', 'destination', 'stays', 'cash', 'departures', 'atm', 'retail', 'corridor', 'transplants', 'immigrants', 'restaurants', 'storefronts', 'skyline', 'fireworks', 'stores', 'buses', 'jitney', 'st.', 'highrise', 'block', 'intersections', 'plenty', 'maids', 'roadways', 'port', 'taxi', 'tel', 'reconstruction', 'encampment', 'greenery', 're-enactments', 'bicycle', 'borough', 'recreation', 'supermarkets', 'nail', 'salons', 'yogurt', 'shops', 'stations', 'liquor', 'deli', 'specialty', 'boutiques', 'gourmet', 'caterers', 'retailers', 'lovers', 'gardeners', 'pizzerias', 'delis', 'diners', 'creole', 'department', 'volcano', 'bays', 'suburbs', 'nightlife', 'sneakers', 'scenery', 'castle', 'salsa', 'saturdays', 'fax', 'buffet', 'drinks', 'windsurf', 'burial', 'stripe', 'reefs', 'geyser', 'shopping', 'nightclub', 'ragga', 'zouk', 'rnb', 'warehouse', 'destinations', 'waterfalls', 'nowhere', 'distilleries', 'tours', 'rums', 'drivers', 'panorama', 'stomachs', 'persians', 'tiling', 'carpets', 'filigree', 'textile', 'mills', 'boulevards', 'foothills', 'mountain', '1600s', 'churches', 'cab', 'mosques', 'palace', 'bazaar', 'holiday', 'evenings', 'avenue', 'masterpieces', 'splendour', 'minarets', 'layout', 'palaces', 'portal', 'floors', 'niches', 'pupils', 'motifs', 'residence', 'harem', 'pool', 'ceremonies', 'ambassadors', 'murals', 'boom', 'centres', 'lofts', 'sightseeing', 'proximity', 'crossroads', 'motorway', 'dwellers', 'marketplace', '1830s', 'fortunes', 'craftsmen', 'merchants', 'fairs', 'profits', 'residences', 'expressions', 'tycoons', 'influx', 'laureate', 'aftermath', 'losses', 'machinery', 'nazis', 'liberation', 'panic', 'communism', 'emigration', 'dilapidation', 'neglect', 'glance', 'agglomeration', 'glitz', 'glamour', 'heyday', 'charm', 'façades', 'leitmotivs', 'contrasts', 'malls', 'plaza', 'conquistadors', '1540s', 'conquistador', 'stonework', '1800s', '1920s', 'henequen', 'sisal', 'harvest', 'trams', 'twines', 'ambiance', '°', 'mornings', 'siesta', 'breezes', 'plazas', 'sidewalk', 'villages', 'wildlife', 'cave', 'cenote', 'copies', 'elevation', 'ft', 'exurbs', 'summertime', 'sunscreen', 'canal', 'towns', 'ashes', '1860s', 'completion', 'reservoirs', 'irrigation', 'tens', 'acres', 'citrus', 'easterners', 'midwesterners', 'tech', 'metro', 'summers', 'winters', '30s', 'norm', 'monsoon', 'rains', 'lightning', 'neighborhoods', 'sunset', 'sunrise', 'terminals', 'depot', 'skytrain', 'rail', 'biodiversity', 'reserve', 'vacation', 'eco', 'lodging', 'accommodations', 'conditionting', 'televisions', 'refrigerators', 'campsites', 'camping', 'packages', 'runway', 'harbor', 'fuel', 'enthusiasts', 'surfing', 'durations', 'camel', 'jewel', 'limestone', 'plateau', 'coastline', 'dunes', 'endemics', 'dragon', 'bark', 'elephant', 'islets', 'hilltops', 'submersion', 'flora', 'fauna', 'ornithology', 'kilometers', 'seals', 'badgers', 'stoats', 'ferries', 'highway', 'reference', 'wallet', 'kayak', 'sights', 'strain', 'cattle', 'barges', 'smakkecenter', 'archipelago', 'poles', 'baggage', 'forwarding', 'package', 'trek', 'guidebook', 'pamphlets', 'tips', 'pdf', 'kr', 'arrangements', 'tent', 'sleeping', 'cover', 'tarpaulin', 'º', \"'\", 'vhf', 'berths', 'foreigners', 'fishing', 'hunter', 'pheasant', 'hare', 'wai', 'greeting', 'brief', 'inferiors', 'superiors', 'offense', 'offering', 'allowance', 'westerners', 'dressers', 'holes', 'blouses', 'sleeves', 'tank', 'tops', 'straps', 'spaghetti', 'laborers', 'schoolchildren', 'flip', 'flops', 'sandals', 'clog', 'establishments', 'wats', 'ankle', 'polo', 'dresses', 'skirts', 'sunbathing', 'temptations', 'layman', 'merit', 'disrespect', 'fakes', 'precipitation', 'stereotype', 'plains', 'snow', 'sunshine', 'barons', 'mansions', 'trove', 'sofas', 'passenger', 'pedestrian', 'roadway', 'southwest', 'grid', 'freeways', 'bypasses', 'arterials', 'mid-town', 'designation', 'railroad', 'bounds', 'plat', 'compass', 'down', 'rails', 'riders', 'contours', 'loan', 'depots', 'bicycling', 'cathedral', 'fortress', 'emperor', 'excavations', 'charms', 'explorers', 'curiosity', 'travellers', 'motorways', 'junction', 'reaches', 'remodelling', 'junctions', 'jams', 'arrogance', 'smugness', 'vulnerability', 'worldview', 'jealousy', 'anger', 'ambiguity', 'imperfection', 'certainty', 'realities', 'preferences', 'imperfections', 'input', 'friendships', 'friendship', 'backgrounds', 'coolness', 'chatterbox', 'rivalries', 'annoyances', 'enmities', 'condemnation', 'mentality', 'trophy', 'ballet', 'courts', \"1600's\", 'clogs', 'flexibility', 'basics', 'positions', 'dancing', 'slippers', 'numbness', 'drawstring', 'pinkie', 'fingernail', 'stickies', 'leotard', 'bet', 'moves', 'positing', 'timing', 'elegance', 'positioning', 'mirrors', 'barre', 'seeds', 'herb', 'spice', 'citral', 'compound', 'decoration', 'basils', 'veins', 'annuals', 'bushes', 'frost', 'almanac', 'containers', 'flats', 'perlite', 'vermiculite', 'peat', 'wrap', 'plastic', 'sprouts', 'hormone', 'mold', 'stalk', 'salad', 'mozzarella', 'refrigerator', 'towels', 'storage', 'lid', 'blender', 'hypnosis', 'beak', 'tip', 'cm', 'chalk', '\"', 'shove', 'stress', 'immobility', 'prey', 'opossum', 'upside', 'fainting', 'hens', 'feathering', 'preening', 'delays', 'laying', 'cupcakes', 'vanilla', 'cakes', 'eggs', 'cupcake', 'recipe', 'icing', 'servings', 'tablespoon', 'ml', 'cups', 'soy', 'g', 'flour', 'teaspoons', 'powder', 'teaspoon', 'vegetable', 'extract', 'cocoa', 'pinch', 'caster', 'sunflower', 'tablespoons', 'oven', 'muffin', 'tray', 'mixer', 'wire', 'rack', 'frosting', 'skewer', 'cooling', 'lunchboxes', 'apricot', 'peach', 'plus', 'syrup', 'walnut', 'macadamia', 'nut', 'oils', 'olive', 'pantry', 'neroli', 'orange', 'rosewater', 'blossom', 'elevators', 'prankster', 'pranks', 'punch', 'noises', 'explosion', 'jazz', 'beast', 'tarantula', 'snake', 'scorpion', 'twister', 'mat', 'messaging', 'gal', 'creep', 'congratulations', 'flirts', 'flirting', 'dos', 'plunge', 'encounter', 'im', 'awkwardness', 'username', 'pleasantries', 'worry', 'likes', 'dislikes', 'suggestions', 'sorrows', 'launching', 'hobbies', 'bourbon', 'song', 'rehab', 'stints', \"don'ts\", 'mantra', 'loathing', 'compliments', 'glowstick', 'hoaxes', 'cheating', 'gloves', 'best', 'smock', 'ph', 'milliliters', 'liter', 'mixing', 'funnels', 'measuring', 'basters', 'luminol', 'nitrogen', 'atoms', 'substances', 'rave', 'electrons', 'grams', 'sodium', 'carbonate', 'copper', 'sulfate', 'ammonium', 'funnel', 'mid-air', 'graphic', 'coroner', 'spy', 'criminologist', 'sigma', 'utensil', 'glowsticks', 'bottles', 'lids', 'chemical', 'laboratory', 'suffix', 'plurals', 'complication', 'genders', 'cat', 'onomatopoeia', 'flap', 'alphabets', 'alphabet', 'strangers', 'knot', 'tongue', 'friend(s)', 'guidelines', 'shortcut', 'connotation', 'vowels', 'vowel', 'acrimony', 'e', 'guess', 'gibberish', 'marks', 'pictographs', 'proto-language', 'possessions', 'urge', 'brim', 'bubble', 'newsprint', 'mishandling', 'essentials', 'toiletries', 'toilet', 'snacks', 'china', 'tape', 'bottoms', 'masking', 'packing', 'screws', 'screw', 'paperwork', 'superstores', 'sizes', 'diaper', 'houseware', 'cart', 'refund', 'handling', 'spaces', 'junk', 'parachute', 'skydiving', 'parachutes', 'coping', 'slipstream', 'chutes', 'jumper', 'chute', 'jump', 'chest', 'strap', 'harness', 'canopy', 'chances', 'obstructions', 'skydivers', 'recourse', 'instructors', 'goddess', 'guardian', 'angel', 'deity', 'afterlife', 'landing', 'rigger', 'phases', 'warnings', 'landings', 'aversion', 'diver', 'destruction', 'cranium', 'demise', 'procrastinator', 'procrastination', 'do', 'notebook', 'workday', 'boost', 'sitting', 'breeze', 'chores', 'trash', 'frenzy', 'daydreams', 'distractions', 'timer', 'boxing', 'arrangement', 'nap', 'temptation', 'deadline', 'alarm', 'powers', 'broom', 'brooms', 'hindrance', 'quaffle', 'bludgers', 'chasers', 'hoops', 'beaters', 'bludger', 'chaser', 'keepers', 'keeper', 'snitch', 'sock', 'running', 'seeker', 'creators', 'muggle', 'broomsticks', 'tailor', 'muggles', 'bystander', 'hockey', 'bat', 'wiffle', 'dodge', 'capture', 'quidditch', 'intervals', 'snitches', 'coin', 'pitch', 'capes', 'volleyball', 'frisbee', 'soccer', 'quinoa', 'grains', 'implements', 'vegetarians', 'broth', 'stove', 'strainer', 'saponins', 'outside', 'saucepan', 'stock', 'boil', 'germ', 'spiral', 'exterior', 'bite', 'fork', 'stir', 'fry', 'substitute', 'curry', 'cooker', 'mesh', 'sieve', 'settings', 'seive', 'mushrooms', 'vegetables', 'dish', 'aluminum', 'foil', 'seasonings', 'serving', 'dishwasher', 'candies', 'cocktails', 'rainbow', 'handle', 'liters', 'gallon', 'candy', 'colors', 'purple', 'ratio', 'mix', 'insides', 'flavor(s)', 'oz', 'flavour', 'filter', 'bags', 'freezer', 'cheesecloth', 'muslin', 'contamination', 'sourness', 'softener', 'dryer', 'flavoring', 'limits', 'intoxication'])"
      ]
     },
     "execution_count": 74,
     "metadata": {},
     "output_type": "execute_result"
    }
   ],
   "source": [
    "emission_matrix['NOUN'].keys()"
   ]
  },
  {
   "cell_type": "code",
   "execution_count": 70,
   "metadata": {},
   "outputs": [
    {
     "data": {
      "text/plain": [
       "0"
      ]
     },
     "execution_count": 70,
     "metadata": {},
     "output_type": "execute_result"
    }
   ],
   "source": []
  },
  {
   "cell_type": "markdown",
   "metadata": {},
   "source": [
    "# Step 2: Labeling the \"UNK\" tags in the dataset"
   ]
  },
  {
   "cell_type": "code",
   "execution_count": null,
   "metadata": {},
   "outputs": [],
   "source": []
  },
  {
   "cell_type": "code",
   "execution_count": null,
   "metadata": {},
   "outputs": [],
   "source": []
  },
  {
   "cell_type": "code",
   "execution_count": null,
   "metadata": {},
   "outputs": [],
   "source": []
  },
  {
   "cell_type": "markdown",
   "metadata": {},
   "source": [
    "# Implementing HMM and Viterbi"
   ]
  },
  {
   "cell_type": "markdown",
   "metadata": {},
   "source": [
    "Here we will implement the Hidden Markov model by calculating the Emission matrix as well as the Transition matrix of the Tokens. Then after that we will use the Viterbi algorithm to calculate the best path of a given input."
   ]
  },
  {
   "cell_type": "markdown",
   "metadata": {},
   "source": [
    "## Part 1: Calculating the Emission Matrix"
   ]
  },
  {
   "cell_type": "code",
   "execution_count": null,
   "metadata": {},
   "outputs": [],
   "source": []
  },
  {
   "cell_type": "code",
   "execution_count": null,
   "metadata": {},
   "outputs": [],
   "source": []
  }
 ],
 "metadata": {
  "kernelspec": {
   "display_name": "Python 3.11.3 ('venvSyntax': venv)",
   "language": "python",
   "name": "python3"
  },
  "language_info": {
   "codemirror_mode": {
    "name": "ipython",
    "version": 3
   },
   "file_extension": ".py",
   "mimetype": "text/x-python",
   "name": "python",
   "nbconvert_exporter": "python",
   "pygments_lexer": "ipython3",
   "version": "3.11.3"
  },
  "orig_nbformat": 4,
  "vscode": {
   "interpreter": {
    "hash": "8039dc67c7fc3bb81eba0b7706ae90869074cd71063e3b75dec25ad99fd8f24e"
   }
  }
 },
 "nbformat": 4,
 "nbformat_minor": 2
}
